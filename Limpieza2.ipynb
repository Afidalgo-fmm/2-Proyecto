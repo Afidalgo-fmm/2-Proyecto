{
 "cells": [
  {
   "cell_type": "code",
   "execution_count": 29,
   "id": "e51bcc17",
   "metadata": {},
   "outputs": [],
   "source": [
    "import pandas as pd\n",
    "import numpy as np\n",
    "import requests as req\n",
    "import json\n",
    "from dotenv import load_dotenv\n",
    "import os"
   ]
  },
  {
   "cell_type": "code",
   "execution_count": 30,
   "id": "d52b920e",
   "metadata": {},
   "outputs": [
    {
     "data": {
      "text/plain": [
       "True"
      ]
     },
     "execution_count": 30,
     "metadata": {},
     "output_type": "execute_result"
    }
   ],
   "source": [
    "load_dotenv()"
   ]
  },
  {
   "cell_type": "code",
   "execution_count": 31,
   "id": "fd7f32ff",
   "metadata": {},
   "outputs": [],
   "source": [
    "token = os.getenv(\"Keytoken\")"
   ]
  },
  {
   "cell_type": "code",
   "execution_count": 3,
   "id": "674427c2",
   "metadata": {},
   "outputs": [
    {
     "data": {
      "text/html": [
       "<div>\n",
       "<style scoped>\n",
       "    .dataframe tbody tr th:only-of-type {\n",
       "        vertical-align: middle;\n",
       "    }\n",
       "\n",
       "    .dataframe tbody tr th {\n",
       "        vertical-align: top;\n",
       "    }\n",
       "\n",
       "    .dataframe thead th {\n",
       "        text-align: right;\n",
       "    }\n",
       "</style>\n",
       "<table border=\"1\" class=\"dataframe\">\n",
       "  <thead>\n",
       "    <tr style=\"text-align: right;\">\n",
       "      <th></th>\n",
       "      <th>SNo</th>\n",
       "      <th>Name</th>\n",
       "      <th>Symbol</th>\n",
       "      <th>Date</th>\n",
       "      <th>High</th>\n",
       "      <th>Low</th>\n",
       "      <th>Open</th>\n",
       "      <th>Close</th>\n",
       "      <th>Volume</th>\n",
       "      <th>Marketcap</th>\n",
       "    </tr>\n",
       "  </thead>\n",
       "  <tbody>\n",
       "    <tr>\n",
       "      <th>0</th>\n",
       "      <td>1</td>\n",
       "      <td>Bitcoin</td>\n",
       "      <td>BTC</td>\n",
       "      <td>2013-04-29 23:59:59</td>\n",
       "      <td>147.488007</td>\n",
       "      <td>134.000000</td>\n",
       "      <td>134.444000</td>\n",
       "      <td>144.539993</td>\n",
       "      <td>0.0</td>\n",
       "      <td>1.603769e+09</td>\n",
       "    </tr>\n",
       "    <tr>\n",
       "      <th>1</th>\n",
       "      <td>2</td>\n",
       "      <td>Bitcoin</td>\n",
       "      <td>BTC</td>\n",
       "      <td>2013-04-30 23:59:59</td>\n",
       "      <td>146.929993</td>\n",
       "      <td>134.050003</td>\n",
       "      <td>144.000000</td>\n",
       "      <td>139.000000</td>\n",
       "      <td>0.0</td>\n",
       "      <td>1.542813e+09</td>\n",
       "    </tr>\n",
       "    <tr>\n",
       "      <th>2</th>\n",
       "      <td>3</td>\n",
       "      <td>Bitcoin</td>\n",
       "      <td>BTC</td>\n",
       "      <td>2013-05-01 23:59:59</td>\n",
       "      <td>139.889999</td>\n",
       "      <td>107.720001</td>\n",
       "      <td>139.000000</td>\n",
       "      <td>116.989998</td>\n",
       "      <td>0.0</td>\n",
       "      <td>1.298955e+09</td>\n",
       "    </tr>\n",
       "    <tr>\n",
       "      <th>3</th>\n",
       "      <td>4</td>\n",
       "      <td>Bitcoin</td>\n",
       "      <td>BTC</td>\n",
       "      <td>2013-05-02 23:59:59</td>\n",
       "      <td>125.599998</td>\n",
       "      <td>92.281898</td>\n",
       "      <td>116.379997</td>\n",
       "      <td>105.209999</td>\n",
       "      <td>0.0</td>\n",
       "      <td>1.168517e+09</td>\n",
       "    </tr>\n",
       "    <tr>\n",
       "      <th>4</th>\n",
       "      <td>5</td>\n",
       "      <td>Bitcoin</td>\n",
       "      <td>BTC</td>\n",
       "      <td>2013-05-03 23:59:59</td>\n",
       "      <td>108.127998</td>\n",
       "      <td>79.099998</td>\n",
       "      <td>106.250000</td>\n",
       "      <td>97.750000</td>\n",
       "      <td>0.0</td>\n",
       "      <td>1.085995e+09</td>\n",
       "    </tr>\n",
       "  </tbody>\n",
       "</table>\n",
       "</div>"
      ],
      "text/plain": [
       "   SNo     Name Symbol                 Date        High         Low  \\\n",
       "0    1  Bitcoin    BTC  2013-04-29 23:59:59  147.488007  134.000000   \n",
       "1    2  Bitcoin    BTC  2013-04-30 23:59:59  146.929993  134.050003   \n",
       "2    3  Bitcoin    BTC  2013-05-01 23:59:59  139.889999  107.720001   \n",
       "3    4  Bitcoin    BTC  2013-05-02 23:59:59  125.599998   92.281898   \n",
       "4    5  Bitcoin    BTC  2013-05-03 23:59:59  108.127998   79.099998   \n",
       "\n",
       "         Open       Close  Volume     Marketcap  \n",
       "0  134.444000  144.539993     0.0  1.603769e+09  \n",
       "1  144.000000  139.000000     0.0  1.542813e+09  \n",
       "2  139.000000  116.989998     0.0  1.298955e+09  \n",
       "3  116.379997  105.209999     0.0  1.168517e+09  \n",
       "4  106.250000   97.750000     0.0  1.085995e+09  "
      ]
     },
     "execution_count": 3,
     "metadata": {},
     "output_type": "execute_result"
    }
   ],
   "source": [
    "bnb = pd.read_csv('../2-proyecto/data/coin_BinanceCoin copia.csv', encoding = \"ISO-8859-1\")\n",
    "#print(bnb.head())\n",
    "btc = pd.read_csv('../2-proyecto/data/coin_Bitcoin copia.csv', encoding = \"ISO-8859-1\")\n",
    "btc.head()"
   ]
  },
  {
   "cell_type": "code",
   "execution_count": 4,
   "id": "a148cdca",
   "metadata": {},
   "outputs": [],
   "source": [
    "apiurl = 'https://quandl1.p.rapidapi.com/databases/WIKI.json'"
   ]
  },
  {
   "cell_type": "code",
   "execution_count": 5,
   "id": "96978844",
   "metadata": {},
   "outputs": [
    {
     "ename": "NameError",
     "evalue": "name 'response' is not defined",
     "output_type": "error",
     "traceback": [
      "\u001b[0;31m---------------------------------------------------------------------------\u001b[0m",
      "\u001b[0;31mNameError\u001b[0m                                 Traceback (most recent call last)",
      "\u001b[0;32m<ipython-input-5-62247a723a25>\u001b[0m in \u001b[0;36m<module>\u001b[0;34m\u001b[0m\n\u001b[1;32m      8\u001b[0m \u001b[0mmiapi\u001b[0m \u001b[0;34m=\u001b[0m \u001b[0mreq\u001b[0m\u001b[0;34m.\u001b[0m\u001b[0mrequest\u001b[0m\u001b[0;34m(\u001b[0m\u001b[0;34m\"GET\"\u001b[0m\u001b[0;34m,\u001b[0m \u001b[0murl\u001b[0m\u001b[0;34m,\u001b[0m \u001b[0mheaders\u001b[0m\u001b[0;34m=\u001b[0m\u001b[0mheaders\u001b[0m\u001b[0;34m)\u001b[0m\u001b[0;34m\u001b[0m\u001b[0;34m\u001b[0m\u001b[0m\n\u001b[1;32m      9\u001b[0m \u001b[0;34m\u001b[0m\u001b[0m\n\u001b[0;32m---> 10\u001b[0;31m \u001b[0mprint\u001b[0m\u001b[0;34m(\u001b[0m\u001b[0mresponse\u001b[0m\u001b[0;34m.\u001b[0m\u001b[0mtext\u001b[0m\u001b[0;34m)\u001b[0m\u001b[0;34m\u001b[0m\u001b[0;34m\u001b[0m\u001b[0m\n\u001b[0m",
      "\u001b[0;31mNameError\u001b[0m: name 'response' is not defined"
     ]
    }
   ],
   "source": [
    "\n",
    "url = \"https://quandl1.p.rapidapi.com/databases/WIKI.csv\"\n",
    "\n",
    "headers = {\n",
    "    'x-rapidapi-host': \"quandl1.p.rapidapi.com\",\n",
    "    'x-rapidapi-key': \"c1c6197e7cmsh605d60948cf2ba6p182ce2jsn43b3d21f576b\"\n",
    "    }\n",
    "\n",
    "miapi = req.request(\"GET\", url, headers=headers)\n",
    "\n",
    "print(response.text)"
   ]
  },
  {
   "cell_type": "code",
   "execution_count": 48,
   "id": "42253a68",
   "metadata": {},
   "outputs": [
    {
     "data": {
      "text/plain": [
       "b'id,name,database_code,description,datasets_count,downloads,premium,image,favorite,url_name,exclusive\\n4922,Wiki EOD Stock Prices,WIKI,\"End of day stock prices, dividends and splits for 3,000 US companies, curated by the Quandl community and released into the public domain.\",3199,1490994074,false,https://quandl-production-data-upload.s3.amazonaws.com/uploads/source/profile_image/4922/thumb_thumb_quandl-open-data-logo.jpg,false,wiki-eod-stock-prices,false\\n'"
      ]
     },
     "execution_count": 48,
     "metadata": {},
     "output_type": "execute_result"
    }
   ],
   "source": [
    "miapi.content"
   ]
  },
  {
   "cell_type": "code",
   "execution_count": 6,
   "id": "9b8fdd86",
   "metadata": {},
   "outputs": [
    {
     "data": {
      "text/plain": [
       "{'Access-Control-Allow-Credentials': 'true', 'Access-Control-Allow-Headers': '*', 'Access-Control-Allow-Methods': 'GET, POST, OPTIONS', 'Access-Control-Allow-Origin': '*', 'Access-Control-Expose-Headers': 'X-RateLimit-Limit, X-RateLimit-Remaining', 'Access-Control-Max-Age': '1728000', 'Allow': 'GET, HEAD, POST, PUT, DELETE, OPTIONS, PATCH', 'Cache-Control': 'no-store', 'Content-Encoding': 'gzip', 'Content-Security-Policy': \"frame-ancestors 'self';\", 'Content-Type': 'text/csv; charset=utf-8', 'Date': 'Sun, 07 Nov 2021 12:22:20 GMT', 'ETag': 'W/\"0389aba35d777cc3451cb0fdea864888\"', 'Pragma': 'no-cache', 'Referrer-Policy': 'origin-when-cross-origin', 'Server': 'RapidAPI-1.2.8', 'Set-Cookie': 'visid_incap_2261005=8dGxvNubQ+OCVyUpPUf0aPvEh2EAAAAAQUIPAAAAAACrmAFiWAXCZnGhRcljy1ng; expires=Mon, 07 Nov 2022 08:36:25 GMT; HttpOnly; path=/; Domain=.quandl.com; Secure; SameSite=None, nlbi_2261005=l1dKbZUg+j8McwgIgSMXTwAAAAD1kWqQxfeeUdIjCywLSGr9; path=/; Domain=.quandl.com; Secure; SameSite=None, incap_ses_7228_2261005=yU/LfvCbzmeA6EmM9QNPZPzEh2EAAAAAj2wOvbm1y2Bi3T6aPHijkA==; path=/; Domain=.quandl.com; Secure; SameSite=None', 'Strict-Transport-Security': 'max-age=31536000; includeSubDomains; preload', 'X-CDN': 'Imperva', 'X-Content-Type-Options': 'nosniff', 'X-Frame-Options': 'SAMEORIGIN', 'X-Iinfo': '10-46154151-46154152 NNYN CT(87 213 0) RT(1636287739768 5) q(0 0 3 0) r(5 5) U2', 'X-RapidAPI-Region': 'AWS - eu-central-1', 'X-RapidAPI-Version': '1.2.8', 'X-RateLimit-Limit': '50000', 'X-RateLimit-Remaining': '49999', 'X-Request-Id': '7efe7685-f550-439b-9354-1ba3b426a91a', 'X-Runtime': '0.064594', 'X-XSS-Protection': '1; mode=block', 'Content-Length': '326', 'Connection': 'keep-alive'}"
      ]
     },
     "execution_count": 6,
     "metadata": {},
     "output_type": "execute_result"
    }
   ],
   "source": [
    "miapi.headers"
   ]
  },
  {
   "cell_type": "code",
   "execution_count": 24,
   "id": "d5fa9c69",
   "metadata": {},
   "outputs": [],
   "source": [
    "df = pd.concat([btc,bnb])\n",
    "df.drop(columns = 'Name', inplace = True)\n",
    "df.set_index('SNo', inplace = True)"
   ]
  },
  {
   "cell_type": "code",
   "execution_count": 25,
   "id": "5eab8abb",
   "metadata": {},
   "outputs": [
    {
     "data": {
      "text/html": [
       "<div>\n",
       "<style scoped>\n",
       "    .dataframe tbody tr th:only-of-type {\n",
       "        vertical-align: middle;\n",
       "    }\n",
       "\n",
       "    .dataframe tbody tr th {\n",
       "        vertical-align: top;\n",
       "    }\n",
       "\n",
       "    .dataframe thead th {\n",
       "        text-align: right;\n",
       "    }\n",
       "</style>\n",
       "<table border=\"1\" class=\"dataframe\">\n",
       "  <thead>\n",
       "    <tr style=\"text-align: right;\">\n",
       "      <th></th>\n",
       "      <th>Symbol</th>\n",
       "      <th>Date</th>\n",
       "      <th>High</th>\n",
       "      <th>Low</th>\n",
       "      <th>Open</th>\n",
       "      <th>Close</th>\n",
       "      <th>Volume</th>\n",
       "      <th>Marketcap</th>\n",
       "    </tr>\n",
       "    <tr>\n",
       "      <th>SNo</th>\n",
       "      <th></th>\n",
       "      <th></th>\n",
       "      <th></th>\n",
       "      <th></th>\n",
       "      <th></th>\n",
       "      <th></th>\n",
       "      <th></th>\n",
       "      <th></th>\n",
       "    </tr>\n",
       "  </thead>\n",
       "  <tbody>\n",
       "    <tr>\n",
       "      <th>1</th>\n",
       "      <td>BTC</td>\n",
       "      <td>2013-04-29 23:59:59</td>\n",
       "      <td>147.488007</td>\n",
       "      <td>134.000000</td>\n",
       "      <td>134.444000</td>\n",
       "      <td>144.539993</td>\n",
       "      <td>0.0</td>\n",
       "      <td>1.603769e+09</td>\n",
       "    </tr>\n",
       "    <tr>\n",
       "      <th>2</th>\n",
       "      <td>BTC</td>\n",
       "      <td>2013-04-30 23:59:59</td>\n",
       "      <td>146.929993</td>\n",
       "      <td>134.050003</td>\n",
       "      <td>144.000000</td>\n",
       "      <td>139.000000</td>\n",
       "      <td>0.0</td>\n",
       "      <td>1.542813e+09</td>\n",
       "    </tr>\n",
       "    <tr>\n",
       "      <th>3</th>\n",
       "      <td>BTC</td>\n",
       "      <td>2013-05-01 23:59:59</td>\n",
       "      <td>139.889999</td>\n",
       "      <td>107.720001</td>\n",
       "      <td>139.000000</td>\n",
       "      <td>116.989998</td>\n",
       "      <td>0.0</td>\n",
       "      <td>1.298955e+09</td>\n",
       "    </tr>\n",
       "    <tr>\n",
       "      <th>4</th>\n",
       "      <td>BTC</td>\n",
       "      <td>2013-05-02 23:59:59</td>\n",
       "      <td>125.599998</td>\n",
       "      <td>92.281898</td>\n",
       "      <td>116.379997</td>\n",
       "      <td>105.209999</td>\n",
       "      <td>0.0</td>\n",
       "      <td>1.168517e+09</td>\n",
       "    </tr>\n",
       "    <tr>\n",
       "      <th>5</th>\n",
       "      <td>BTC</td>\n",
       "      <td>2013-05-03 23:59:59</td>\n",
       "      <td>108.127998</td>\n",
       "      <td>79.099998</td>\n",
       "      <td>106.250000</td>\n",
       "      <td>97.750000</td>\n",
       "      <td>0.0</td>\n",
       "      <td>1.085995e+09</td>\n",
       "    </tr>\n",
       "  </tbody>\n",
       "</table>\n",
       "</div>"
      ],
      "text/plain": [
       "    Symbol                 Date        High         Low        Open  \\\n",
       "SNo                                                                   \n",
       "1      BTC  2013-04-29 23:59:59  147.488007  134.000000  134.444000   \n",
       "2      BTC  2013-04-30 23:59:59  146.929993  134.050003  144.000000   \n",
       "3      BTC  2013-05-01 23:59:59  139.889999  107.720001  139.000000   \n",
       "4      BTC  2013-05-02 23:59:59  125.599998   92.281898  116.379997   \n",
       "5      BTC  2013-05-03 23:59:59  108.127998   79.099998  106.250000   \n",
       "\n",
       "          Close  Volume     Marketcap  \n",
       "SNo                                    \n",
       "1    144.539993     0.0  1.603769e+09  \n",
       "2    139.000000     0.0  1.542813e+09  \n",
       "3    116.989998     0.0  1.298955e+09  \n",
       "4    105.209999     0.0  1.168517e+09  \n",
       "5     97.750000     0.0  1.085995e+09  "
      ]
     },
     "execution_count": 25,
     "metadata": {},
     "output_type": "execute_result"
    }
   ],
   "source": [
    "df.head()"
   ]
  },
  {
   "cell_type": "code",
   "execution_count": 26,
   "id": "7f926a00",
   "metadata": {},
   "outputs": [
    {
     "data": {
      "text/html": [
       "<div>\n",
       "<style scoped>\n",
       "    .dataframe tbody tr th:only-of-type {\n",
       "        vertical-align: middle;\n",
       "    }\n",
       "\n",
       "    .dataframe tbody tr th {\n",
       "        vertical-align: top;\n",
       "    }\n",
       "\n",
       "    .dataframe thead th {\n",
       "        text-align: right;\n",
       "    }\n",
       "</style>\n",
       "<table border=\"1\" class=\"dataframe\">\n",
       "  <thead>\n",
       "    <tr style=\"text-align: right;\">\n",
       "      <th></th>\n",
       "      <th>Symbol</th>\n",
       "      <th>High</th>\n",
       "      <th>Low</th>\n",
       "      <th>Open</th>\n",
       "      <th>Close</th>\n",
       "      <th>Volume</th>\n",
       "      <th>Marketcap</th>\n",
       "      <th>Año</th>\n",
       "      <th>Mes</th>\n",
       "      <th>Dia</th>\n",
       "    </tr>\n",
       "    <tr>\n",
       "      <th>SNo</th>\n",
       "      <th></th>\n",
       "      <th></th>\n",
       "      <th></th>\n",
       "      <th></th>\n",
       "      <th></th>\n",
       "      <th></th>\n",
       "      <th></th>\n",
       "      <th></th>\n",
       "      <th></th>\n",
       "      <th></th>\n",
       "    </tr>\n",
       "  </thead>\n",
       "  <tbody>\n",
       "    <tr>\n",
       "      <th>1</th>\n",
       "      <td>BTC</td>\n",
       "      <td>147.488007</td>\n",
       "      <td>134.000000</td>\n",
       "      <td>134.444000</td>\n",
       "      <td>144.539993</td>\n",
       "      <td>0.0</td>\n",
       "      <td>1.603769e+09</td>\n",
       "      <td>2013</td>\n",
       "      <td>04</td>\n",
       "      <td>29</td>\n",
       "    </tr>\n",
       "    <tr>\n",
       "      <th>2</th>\n",
       "      <td>BTC</td>\n",
       "      <td>146.929993</td>\n",
       "      <td>134.050003</td>\n",
       "      <td>144.000000</td>\n",
       "      <td>139.000000</td>\n",
       "      <td>0.0</td>\n",
       "      <td>1.542813e+09</td>\n",
       "      <td>2013</td>\n",
       "      <td>04</td>\n",
       "      <td>30</td>\n",
       "    </tr>\n",
       "    <tr>\n",
       "      <th>3</th>\n",
       "      <td>BTC</td>\n",
       "      <td>139.889999</td>\n",
       "      <td>107.720001</td>\n",
       "      <td>139.000000</td>\n",
       "      <td>116.989998</td>\n",
       "      <td>0.0</td>\n",
       "      <td>1.298955e+09</td>\n",
       "      <td>2013</td>\n",
       "      <td>05</td>\n",
       "      <td>01</td>\n",
       "    </tr>\n",
       "    <tr>\n",
       "      <th>4</th>\n",
       "      <td>BTC</td>\n",
       "      <td>125.599998</td>\n",
       "      <td>92.281898</td>\n",
       "      <td>116.379997</td>\n",
       "      <td>105.209999</td>\n",
       "      <td>0.0</td>\n",
       "      <td>1.168517e+09</td>\n",
       "      <td>2013</td>\n",
       "      <td>05</td>\n",
       "      <td>02</td>\n",
       "    </tr>\n",
       "    <tr>\n",
       "      <th>5</th>\n",
       "      <td>BTC</td>\n",
       "      <td>108.127998</td>\n",
       "      <td>79.099998</td>\n",
       "      <td>106.250000</td>\n",
       "      <td>97.750000</td>\n",
       "      <td>0.0</td>\n",
       "      <td>1.085995e+09</td>\n",
       "      <td>2013</td>\n",
       "      <td>05</td>\n",
       "      <td>03</td>\n",
       "    </tr>\n",
       "  </tbody>\n",
       "</table>\n",
       "</div>"
      ],
      "text/plain": [
       "    Symbol        High         Low        Open       Close  Volume  \\\n",
       "SNo                                                                  \n",
       "1      BTC  147.488007  134.000000  134.444000  144.539993     0.0   \n",
       "2      BTC  146.929993  134.050003  144.000000  139.000000     0.0   \n",
       "3      BTC  139.889999  107.720001  139.000000  116.989998     0.0   \n",
       "4      BTC  125.599998   92.281898  116.379997  105.209999     0.0   \n",
       "5      BTC  108.127998   79.099998  106.250000   97.750000     0.0   \n",
       "\n",
       "        Marketcap   Año Mes Dia  \n",
       "SNo                              \n",
       "1    1.603769e+09  2013  04  29  \n",
       "2    1.542813e+09  2013  04  30  \n",
       "3    1.298955e+09  2013  05  01  \n",
       "4    1.168517e+09  2013  05  02  \n",
       "5    1.085995e+09  2013  05  03  "
      ]
     },
     "execution_count": 26,
     "metadata": {},
     "output_type": "execute_result"
    }
   ],
   "source": [
    "fecha = []\n",
    "for i in df.Date:\n",
    "    fecha.append(i.split()[0])\n",
    "año = []\n",
    "mes = []\n",
    "dia = []\n",
    "for i in fecha:\n",
    "    año.append(i.split('-')[0])\n",
    "    mes.append(i.split('-')[1])\n",
    "    dia.append(i.split('-')[2])\n",
    "df['Año'] = año\n",
    "df['Mes'] = mes\n",
    "df['Dia'] = dia \n",
    "df.drop(columns = 'Date', inplace = True)\n",
    "df.head()"
   ]
  },
  {
   "cell_type": "code",
   "execution_count": 27,
   "id": "02db11a9",
   "metadata": {},
   "outputs": [
    {
     "data": {
      "text/plain": [
       "array(['2013', '2014', '2015', '2016', '2017', '2018', '2019', '2020',\n",
       "       '2021'], dtype=object)"
      ]
     },
     "execution_count": 27,
     "metadata": {},
     "output_type": "execute_result"
    }
   ],
   "source": [
    "df.Año.unique()"
   ]
  },
  {
   "cell_type": "code",
   "execution_count": 53,
   "id": "23ed02c3",
   "metadata": {},
   "outputs": [],
   "source": [
    "other_api = f'https://api.polygon.io/v2/aggs/ticker/AAPL/range/1/day/2020-06-01/2020-06-17?apiKey={token}'"
   ]
  },
  {
   "cell_type": "code",
   "execution_count": 60,
   "id": "88d5da59",
   "metadata": {},
   "outputs": [],
   "source": [
    "otherapi = req.get(other_api).json()"
   ]
  },
  {
   "cell_type": "code",
   "execution_count": 59,
   "id": "e5b7bf94",
   "metadata": {},
   "outputs": [
    {
     "data": {
      "text/plain": [
       "b'{\"ticker\":\"AAPL\",\"queryCount\":13,\"resultsCount\":13,\"adjusted\":true,\"results\":[{\"v\":8.1000752e+07,\"vw\":80.2125,\"o\":79.4375,\"c\":80.4625,\"h\":80.5875,\"l\":79.3025,\"t\":1590984000000,\"n\":231707},{\"v\":8.7642632e+07,\"vw\":80.3801,\"o\":80.1863,\"c\":80.835,\"h\":80.86,\"l\":79.7325,\"t\":1591070400000,\"n\":226248},{\"v\":1.04490584e+08,\"vw\":81.084,\"o\":81.165,\"c\":81.28,\"h\":81.55,\"l\":80.575,\"t\":1591156800000,\"n\":258867},{\"v\":8.7560364e+07,\"vw\":80.8328,\"o\":81.0975,\"c\":80.58,\"h\":81.405,\"l\":80.195,\"t\":1591243200000,\"n\":237171},{\"v\":1.37248048e+08,\"vw\":82.2786,\"o\":80.8375,\"c\":82.875,\"h\":82.9375,\"l\":80.8075,\"t\":1591329600000,\"n\":351615},{\"v\":9.56509e+07,\"vw\":82.7662,\"o\":82.5625,\"c\":83.365,\"h\":83.4,\"l\":81.83,\"t\":1591588800000,\"n\":261203},{\"v\":1.47712228e+08,\"vw\":85.3634,\"o\":83.035,\"c\":85.9975,\"h\":86.4025,\"l\":83.0025,\"t\":1591675200000,\"n\":402768},{\"v\":1.6664698e+08,\"vw\":87.8736,\"o\":86.975,\"c\":88.21,\"h\":88.6925,\"l\":86.5225,\"t\":1591761600000,\"n\":449782},{\"v\":2.01659684e+08,\"vw\":85.7741,\"o\":87.3275,\"c\":83.975,\"h\":87.765,\"l\":83.87,\"t\":1591848000000,\"n\":577299},{\"v\":2.00145124e+08,\"vw\":85.0132,\"o\":86.18,\"c\":84.7,\"h\":86.95,\"l\":83.5558,\"t\":1591934400000,\"n\":514308},{\"v\":1.3880872e+08,\"vw\":84.8782,\"o\":83.3125,\"c\":85.7475,\"h\":86.42,\"l\":83.145,\"t\":1592193600000,\"n\":368615},{\"v\":1.65428728e+08,\"vw\":87.7181,\"o\":87.865,\"c\":88.02,\"h\":88.3,\"l\":86.18,\"t\":1592280000000,\"n\":446656},{\"v\":1.14388504e+08,\"vw\":88.4283,\"o\":88.7875,\"c\":87.8975,\"h\":88.85,\"l\":87.7725,\"t\":1592366400000,\"n\":321829}],\"status\":\"OK\",\"request_id\":\"9a0c954048ddad030d3749bcdc73a806\",\"count\":13}'"
      ]
     },
     "execution_count": 59,
     "metadata": {},
     "output_type": "execute_result"
    }
   ],
   "source": [
    "otherapi\n"
   ]
  },
  {
   "cell_type": "code",
   "execution_count": 39,
   "id": "6ac73d5a",
   "metadata": {},
   "outputs": [],
   "source": [
    "api2 = pd.DataFrame.from_dict(otherapi)"
   ]
  },
  {
   "cell_type": "code",
   "execution_count": 40,
   "id": "985f9b47",
   "metadata": {},
   "outputs": [
    {
     "data": {
      "text/html": [
       "<div>\n",
       "<style scoped>\n",
       "    .dataframe tbody tr th:only-of-type {\n",
       "        vertical-align: middle;\n",
       "    }\n",
       "\n",
       "    .dataframe tbody tr th {\n",
       "        vertical-align: top;\n",
       "    }\n",
       "\n",
       "    .dataframe thead th {\n",
       "        text-align: right;\n",
       "    }\n",
       "</style>\n",
       "<table border=\"1\" class=\"dataframe\">\n",
       "  <thead>\n",
       "    <tr style=\"text-align: right;\">\n",
       "      <th></th>\n",
       "      <th>ticker</th>\n",
       "      <th>queryCount</th>\n",
       "      <th>resultsCount</th>\n",
       "      <th>adjusted</th>\n",
       "      <th>results</th>\n",
       "      <th>status</th>\n",
       "      <th>request_id</th>\n",
       "      <th>count</th>\n",
       "    </tr>\n",
       "  </thead>\n",
       "  <tbody>\n",
       "    <tr>\n",
       "      <th>0</th>\n",
       "      <td>AAPL</td>\n",
       "      <td>13</td>\n",
       "      <td>13</td>\n",
       "      <td>True</td>\n",
       "      <td>{'v': 81000752.0, 'vw': 80.2125, 'o': 79.4375,...</td>\n",
       "      <td>OK</td>\n",
       "      <td>ef9579f80ec1770eabfcc42b21e29799</td>\n",
       "      <td>13</td>\n",
       "    </tr>\n",
       "    <tr>\n",
       "      <th>1</th>\n",
       "      <td>AAPL</td>\n",
       "      <td>13</td>\n",
       "      <td>13</td>\n",
       "      <td>True</td>\n",
       "      <td>{'v': 87642632.0, 'vw': 80.3801, 'o': 80.1863,...</td>\n",
       "      <td>OK</td>\n",
       "      <td>ef9579f80ec1770eabfcc42b21e29799</td>\n",
       "      <td>13</td>\n",
       "    </tr>\n",
       "    <tr>\n",
       "      <th>2</th>\n",
       "      <td>AAPL</td>\n",
       "      <td>13</td>\n",
       "      <td>13</td>\n",
       "      <td>True</td>\n",
       "      <td>{'v': 104490584.0, 'vw': 81.084, 'o': 81.165, ...</td>\n",
       "      <td>OK</td>\n",
       "      <td>ef9579f80ec1770eabfcc42b21e29799</td>\n",
       "      <td>13</td>\n",
       "    </tr>\n",
       "    <tr>\n",
       "      <th>3</th>\n",
       "      <td>AAPL</td>\n",
       "      <td>13</td>\n",
       "      <td>13</td>\n",
       "      <td>True</td>\n",
       "      <td>{'v': 87560364.0, 'vw': 80.8328, 'o': 81.0975,...</td>\n",
       "      <td>OK</td>\n",
       "      <td>ef9579f80ec1770eabfcc42b21e29799</td>\n",
       "      <td>13</td>\n",
       "    </tr>\n",
       "    <tr>\n",
       "      <th>4</th>\n",
       "      <td>AAPL</td>\n",
       "      <td>13</td>\n",
       "      <td>13</td>\n",
       "      <td>True</td>\n",
       "      <td>{'v': 137248048.0, 'vw': 82.2786, 'o': 80.8375...</td>\n",
       "      <td>OK</td>\n",
       "      <td>ef9579f80ec1770eabfcc42b21e29799</td>\n",
       "      <td>13</td>\n",
       "    </tr>\n",
       "  </tbody>\n",
       "</table>\n",
       "</div>"
      ],
      "text/plain": [
       "  ticker  queryCount  resultsCount  adjusted  \\\n",
       "0   AAPL          13            13      True   \n",
       "1   AAPL          13            13      True   \n",
       "2   AAPL          13            13      True   \n",
       "3   AAPL          13            13      True   \n",
       "4   AAPL          13            13      True   \n",
       "\n",
       "                                             results status  \\\n",
       "0  {'v': 81000752.0, 'vw': 80.2125, 'o': 79.4375,...     OK   \n",
       "1  {'v': 87642632.0, 'vw': 80.3801, 'o': 80.1863,...     OK   \n",
       "2  {'v': 104490584.0, 'vw': 81.084, 'o': 81.165, ...     OK   \n",
       "3  {'v': 87560364.0, 'vw': 80.8328, 'o': 81.0975,...     OK   \n",
       "4  {'v': 137248048.0, 'vw': 82.2786, 'o': 80.8375...     OK   \n",
       "\n",
       "                         request_id  count  \n",
       "0  ef9579f80ec1770eabfcc42b21e29799     13  \n",
       "1  ef9579f80ec1770eabfcc42b21e29799     13  \n",
       "2  ef9579f80ec1770eabfcc42b21e29799     13  \n",
       "3  ef9579f80ec1770eabfcc42b21e29799     13  \n",
       "4  ef9579f80ec1770eabfcc42b21e29799     13  "
      ]
     },
     "execution_count": 40,
     "metadata": {},
     "output_type": "execute_result"
    }
   ],
   "source": [
    "api2.head()"
   ]
  },
  {
   "cell_type": "code",
   "execution_count": 63,
   "id": "e180214b",
   "metadata": {
    "scrolled": true
   },
   "outputs": [
    {
     "name": "stdout",
     "output_type": "stream",
     "text": [
      "<class 'pandas.core.frame.DataFrame'>\n",
      "RangeIndex: 2991 entries, 0 to 2990\n",
      "Data columns (total 10 columns):\n",
      " #   Column     Non-Null Count  Dtype  \n",
      "---  ------     --------------  -----  \n",
      " 0   SNo        2991 non-null   int64  \n",
      " 1   Name       2991 non-null   object \n",
      " 2   Symbol     2991 non-null   object \n",
      " 3   Date       2991 non-null   object \n",
      " 4   High       2991 non-null   float64\n",
      " 5   Low        2991 non-null   float64\n",
      " 6   Open       2991 non-null   float64\n",
      " 7   Close      2991 non-null   float64\n",
      " 8   Volume     2991 non-null   float64\n",
      " 9   Marketcap  2991 non-null   float64\n",
      "dtypes: float64(6), int64(1), object(3)\n",
      "memory usage: 233.8+ KB\n"
     ]
    }
   ],
   "source": [
    "btc.info()"
   ]
  },
  {
   "cell_type": "code",
   "execution_count": null,
   "id": "fa1be5fd",
   "metadata": {},
   "outputs": [],
   "source": []
  }
 ],
 "metadata": {
  "kernelspec": {
   "display_name": "ironhack",
   "language": "python",
   "name": "ironhack"
  },
  "language_info": {
   "codemirror_mode": {
    "name": "ipython",
    "version": 3
   },
   "file_extension": ".py",
   "mimetype": "text/x-python",
   "name": "python",
   "nbconvert_exporter": "python",
   "pygments_lexer": "ipython3",
   "version": "3.8.5"
  }
 },
 "nbformat": 4,
 "nbformat_minor": 5
}
