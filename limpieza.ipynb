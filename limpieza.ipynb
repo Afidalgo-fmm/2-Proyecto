{
 "cells": [
  {
   "cell_type": "code",
   "execution_count": 87,
   "id": "99e9dfe7",
   "metadata": {},
   "outputs": [],
   "source": [
    "import pandas as pd\n",
    "import numpy as np\n",
    "import requests as req\n",
    "import json\n",
    "from dotenv import load_dotenv\n",
    "import os\n",
    "from bs4 import BeautifulSoup"
   ]
  },
  {
   "cell_type": "code",
   "execution_count": 88,
   "id": "42d69e1e",
   "metadata": {},
   "outputs": [],
   "source": [
    "load_dotenv()\n",
    "token = os.getenv(\"Keytoken\")"
   ]
  },
  {
   "cell_type": "code",
   "execution_count": 89,
   "id": "3ba9e84f",
   "metadata": {},
   "outputs": [
    {
     "data": {
      "text/html": [
       "<div>\n",
       "<style scoped>\n",
       "    .dataframe tbody tr th:only-of-type {\n",
       "        vertical-align: middle;\n",
       "    }\n",
       "\n",
       "    .dataframe tbody tr th {\n",
       "        vertical-align: top;\n",
       "    }\n",
       "\n",
       "    .dataframe thead th {\n",
       "        text-align: right;\n",
       "    }\n",
       "</style>\n",
       "<table border=\"1\" class=\"dataframe\">\n",
       "  <thead>\n",
       "    <tr style=\"text-align: right;\">\n",
       "      <th></th>\n",
       "      <th>SNo</th>\n",
       "      <th>Name</th>\n",
       "      <th>Symbol</th>\n",
       "      <th>Date</th>\n",
       "      <th>High</th>\n",
       "      <th>Low</th>\n",
       "      <th>Open</th>\n",
       "      <th>Close</th>\n",
       "      <th>Volume</th>\n",
       "      <th>Marketcap</th>\n",
       "    </tr>\n",
       "  </thead>\n",
       "  <tbody>\n",
       "    <tr>\n",
       "      <th>0</th>\n",
       "      <td>1</td>\n",
       "      <td>Bitcoin</td>\n",
       "      <td>BTC</td>\n",
       "      <td>2013-04-29 23:59:59</td>\n",
       "      <td>147.488007</td>\n",
       "      <td>134.000000</td>\n",
       "      <td>134.444000</td>\n",
       "      <td>144.539993</td>\n",
       "      <td>0.0</td>\n",
       "      <td>1.603769e+09</td>\n",
       "    </tr>\n",
       "    <tr>\n",
       "      <th>1</th>\n",
       "      <td>2</td>\n",
       "      <td>Bitcoin</td>\n",
       "      <td>BTC</td>\n",
       "      <td>2013-04-30 23:59:59</td>\n",
       "      <td>146.929993</td>\n",
       "      <td>134.050003</td>\n",
       "      <td>144.000000</td>\n",
       "      <td>139.000000</td>\n",
       "      <td>0.0</td>\n",
       "      <td>1.542813e+09</td>\n",
       "    </tr>\n",
       "    <tr>\n",
       "      <th>2</th>\n",
       "      <td>3</td>\n",
       "      <td>Bitcoin</td>\n",
       "      <td>BTC</td>\n",
       "      <td>2013-05-01 23:59:59</td>\n",
       "      <td>139.889999</td>\n",
       "      <td>107.720001</td>\n",
       "      <td>139.000000</td>\n",
       "      <td>116.989998</td>\n",
       "      <td>0.0</td>\n",
       "      <td>1.298955e+09</td>\n",
       "    </tr>\n",
       "    <tr>\n",
       "      <th>3</th>\n",
       "      <td>4</td>\n",
       "      <td>Bitcoin</td>\n",
       "      <td>BTC</td>\n",
       "      <td>2013-05-02 23:59:59</td>\n",
       "      <td>125.599998</td>\n",
       "      <td>92.281898</td>\n",
       "      <td>116.379997</td>\n",
       "      <td>105.209999</td>\n",
       "      <td>0.0</td>\n",
       "      <td>1.168517e+09</td>\n",
       "    </tr>\n",
       "    <tr>\n",
       "      <th>4</th>\n",
       "      <td>5</td>\n",
       "      <td>Bitcoin</td>\n",
       "      <td>BTC</td>\n",
       "      <td>2013-05-03 23:59:59</td>\n",
       "      <td>108.127998</td>\n",
       "      <td>79.099998</td>\n",
       "      <td>106.250000</td>\n",
       "      <td>97.750000</td>\n",
       "      <td>0.0</td>\n",
       "      <td>1.085995e+09</td>\n",
       "    </tr>\n",
       "  </tbody>\n",
       "</table>\n",
       "</div>"
      ],
      "text/plain": [
       "   SNo     Name Symbol                 Date        High         Low  \\\n",
       "0    1  Bitcoin    BTC  2013-04-29 23:59:59  147.488007  134.000000   \n",
       "1    2  Bitcoin    BTC  2013-04-30 23:59:59  146.929993  134.050003   \n",
       "2    3  Bitcoin    BTC  2013-05-01 23:59:59  139.889999  107.720001   \n",
       "3    4  Bitcoin    BTC  2013-05-02 23:59:59  125.599998   92.281898   \n",
       "4    5  Bitcoin    BTC  2013-05-03 23:59:59  108.127998   79.099998   \n",
       "\n",
       "         Open       Close  Volume     Marketcap  \n",
       "0  134.444000  144.539993     0.0  1.603769e+09  \n",
       "1  144.000000  139.000000     0.0  1.542813e+09  \n",
       "2  139.000000  116.989998     0.0  1.298955e+09  \n",
       "3  116.379997  105.209999     0.0  1.168517e+09  \n",
       "4  106.250000   97.750000     0.0  1.085995e+09  "
      ]
     },
     "execution_count": 89,
     "metadata": {},
     "output_type": "execute_result"
    }
   ],
   "source": [
    "btc = pd.read_csv('../2-proyecto/data/coin_Bitcoin copia.csv', encoding = \"ISO-8859-1\")\n",
    "btc.head()"
   ]
  },
  {
   "cell_type": "code",
   "execution_count": 90,
   "id": "bec99c22",
   "metadata": {},
   "outputs": [],
   "source": [
    "btc.drop(columns = 'Name', inplace = True)\n",
    "btc.set_index('SNo', inplace = True)"
   ]
  },
  {
   "cell_type": "code",
   "execution_count": 91,
   "id": "1dc85d1f",
   "metadata": {},
   "outputs": [],
   "source": [
    "fecha = []\n",
    "for i in btc.Date:\n",
    "    fecha.append(i.split()[0])\n",
    "año = []\n",
    "mes = []\n",
    "dia = []\n",
    "for i in fecha:\n",
    "    año.append(i.split('-')[0])\n",
    "    mes.append(i.split('-')[1])\n",
    "    dia.append(i.split('-')[2])\n",
    "btc['Año'] = año\n",
    "btc['Mes'] = mes\n",
    "btc['Dia'] = dia \n",
    "btc.drop(columns = 'Date', inplace = True)\n",
    "#btc.head()"
   ]
  },
  {
   "cell_type": "code",
   "execution_count": 92,
   "id": "4f84837d",
   "metadata": {},
   "outputs": [
    {
     "data": {
      "text/plain": [
       "array(['2013', '2014', '2015', '2016', '2017', '2018', '2019', '2020',\n",
       "       '2021'], dtype=object)"
      ]
     },
     "execution_count": 92,
     "metadata": {},
     "output_type": "execute_result"
    }
   ],
   "source": [
    "btc.Año.unique()"
   ]
  },
  {
   "cell_type": "code",
   "execution_count": null,
   "id": "7720ae6e",
   "metadata": {},
   "outputs": [],
   "source": []
  },
  {
   "cell_type": "code",
   "execution_count": 93,
   "id": "73617ef6",
   "metadata": {},
   "outputs": [],
   "source": [
    "url = 'https://es.finance.yahoo.com/quote/%5ENDX/history?period1=1446940800&period2=1636329600&interval=1d&filter=history&frequency=1d&includeAdjustedClose=true'\n",
    "url2 = 'https://es.finance.yahoo.com/quote/%5ENDX/history?period1=1446940800&period2=1623888000&interval=1d&filter=history&frequency=1d&includeAdjustedClose=true'\n",
    "url3 = 'https://es.finance.yahoo.com/quote/%5ENDX/history?period1=1446940800&period2=1611532800&interval=1d&filter=history&frequency=1d&includeAdjustedClose=true'\n",
    "url4 = 'https://es.finance.yahoo.com/quote/%5ENDX/history?period1=1446940800&period2=1598832000&interval=1d&filter=history&frequency=1d&includeAdjustedClose=true'\n",
    "url5 = 'https://es.finance.yahoo.com/quote/%5ENDX/history?period1=1446940800&period2=1586304000&interval=1d&filter=history&frequency=1d&includeAdjustedClose=true'\n",
    "url6 = 'https://es.finance.yahoo.com/quote/%5ENDX/history?period1=1446940800&period2=1573603200&interval=1d&filter=history&frequency=1d&includeAdjustedClose=true'\n",
    "url7 = 'https://es.finance.yahoo.com/quote/%5ENDX/history?period1=1446940800&period2=1561334400&interval=1d&filter=history&frequency=1d&includeAdjustedClose=true'\n"
   ]
  },
  {
   "cell_type": "code",
   "execution_count": 94,
   "id": "19a43e76",
   "metadata": {},
   "outputs": [],
   "source": [
    "hdr = {'User-Agent': 'Mozilla/5.0'}\n",
    "response = req.get(url,headers=hdr)\n",
    "response2 = req.get(url2,headers=hdr)\n",
    "response3 = req.get(url3,headers=hdr)\n",
    "response4 = req.get(url4,headers=hdr)\n",
    "response5 = req.get(url5,headers = hdr)\n",
    "response6 = req.get(url6,headers = hdr)\n",
    "response7 = req.get(url7,headers = hdr)"
   ]
  },
  {
   "cell_type": "code",
   "execution_count": 95,
   "id": "d8ebe2fc",
   "metadata": {},
   "outputs": [],
   "source": [
    "soup = BeautifulSoup(response.content, \"html.parser\")\n",
    "soup2 = BeautifulSoup(response2.content, \"html.parser\")\n",
    "soup3 = BeautifulSoup(response3.content, \"html.parser\")\n",
    "soup4 = BeautifulSoup(response4.content, \"html.parser\")\n",
    "soup5 = BeautifulSoup(response5.content, \"html.parser\")\n",
    "soup6 = BeautifulSoup(response6.content, \"html.parser\")\n",
    "soup7 = BeautifulSoup(response7.content, \"html.parser\")"
   ]
  },
  {
   "cell_type": "code",
   "execution_count": 96,
   "id": "744bf6e0",
   "metadata": {},
   "outputs": [
    {
     "name": "stdout",
     "output_type": "stream",
     "text": [
      "600\n"
     ]
    }
   ],
   "source": [
    "datitos = []\n",
    "for row in soup.find_all(\"td\", {\"class\":\"Py(10px) Pstart(10px)\"}):\n",
    "    datitos.append(row.getText())\n",
    "print(len(datitos))"
   ]
  },
  {
   "cell_type": "code",
   "execution_count": 97,
   "id": "9d5942c3",
   "metadata": {},
   "outputs": [
    {
     "name": "stdout",
     "output_type": "stream",
     "text": [
      "600\n"
     ]
    }
   ],
   "source": [
    "#cojo todos los datos que me interesan para mi segundo dataset \n",
    "dat2 = []\n",
    "for row in soup2.find_all(\"td\", {\"class\":\"Py(10px) Pstart(10px)\"}):\n",
    "    dat2.append(row.getText())\n",
    "print(len(dat2))"
   ]
  },
  {
   "cell_type": "code",
   "execution_count": 98,
   "id": "6da75642",
   "metadata": {},
   "outputs": [
    {
     "name": "stdout",
     "output_type": "stream",
     "text": [
      "600\n"
     ]
    }
   ],
   "source": [
    "#cojo todos los datos que me interesan para mi tercer dataset \n",
    "dat3 = []\n",
    "for row in soup3.find_all(\"td\", {\"class\":\"Py(10px) Pstart(10px)\"}):\n",
    "    dat3.append(row.getText())\n",
    "print(len(dat3))"
   ]
  },
  {
   "cell_type": "code",
   "execution_count": 99,
   "id": "e765dba7",
   "metadata": {},
   "outputs": [
    {
     "name": "stdout",
     "output_type": "stream",
     "text": [
      "600\n"
     ]
    }
   ],
   "source": [
    "#cojo todos los datos que me interesan para mi cuarto dataset \n",
    "dat4 = []\n",
    "for row in soup4.find_all(\"td\", {\"class\":\"Py(10px) Pstart(10px)\"}):\n",
    "    dat4.append(row.getText())\n",
    "print(len(dat4))"
   ]
  },
  {
   "cell_type": "code",
   "execution_count": 100,
   "id": "39d93a2f",
   "metadata": {},
   "outputs": [
    {
     "name": "stdout",
     "output_type": "stream",
     "text": [
      "600\n"
     ]
    }
   ],
   "source": [
    "#cojo todos los datos que me interesan para mi quinto dataset \n",
    "dat5 = []\n",
    "for row in soup5.find_all(\"td\", {\"class\":\"Py(10px) Pstart(10px)\"}):\n",
    "    dat5.append(row.getText())\n",
    "print(len(dat5))"
   ]
  },
  {
   "cell_type": "code",
   "execution_count": 101,
   "id": "b4350e68",
   "metadata": {},
   "outputs": [
    {
     "name": "stdout",
     "output_type": "stream",
     "text": [
      "600\n"
     ]
    }
   ],
   "source": [
    "#cojo todos los datos que me interesan para mi sexto dataset \n",
    "dat6 = []\n",
    "for row in soup6.find_all(\"td\", {\"class\":\"Py(10px) Pstart(10px)\"}):\n",
    "    dat6.append(row.getText())\n",
    "print(len(dat6))"
   ]
  },
  {
   "cell_type": "code",
   "execution_count": 102,
   "id": "a8d4bd6a",
   "metadata": {},
   "outputs": [
    {
     "name": "stdout",
     "output_type": "stream",
     "text": [
      "600\n"
     ]
    }
   ],
   "source": [
    "#cojo todos los datos que me interesan para mi septimo dataset \n",
    "dat7 = []\n",
    "for row in soup7.find_all(\"td\", {\"class\":\"Py(10px) Pstart(10px)\"}):\n",
    "    dat7.append(row.getText())\n",
    "print(len(dat7))"
   ]
  },
  {
   "cell_type": "code",
   "execution_count": 103,
   "id": "bd6124fd",
   "metadata": {},
   "outputs": [
    {
     "name": "stdout",
     "output_type": "stream",
     "text": [
      "100\n"
     ]
    }
   ],
   "source": [
    "fechas = []\n",
    "for row in soup.find_all(\"td\", {\"class\": \"Py(10px) Ta(start) Pend(10px)\"}):\n",
    "    fechas.append(row.getText())\n",
    "print(len(fechas))"
   ]
  },
  {
   "cell_type": "code",
   "execution_count": 104,
   "id": "79a3fe4f",
   "metadata": {},
   "outputs": [
    {
     "name": "stdout",
     "output_type": "stream",
     "text": [
      "100\n"
     ]
    }
   ],
   "source": [
    "fec2 = []\n",
    "for row in soup2.find_all(\"td\", {\"class\": \"Py(10px) Ta(start) Pend(10px)\"}):\n",
    "    fec2.append(row.getText())\n",
    "print(len(fec2))"
   ]
  },
  {
   "cell_type": "code",
   "execution_count": 105,
   "id": "d2a217cf",
   "metadata": {},
   "outputs": [
    {
     "name": "stdout",
     "output_type": "stream",
     "text": [
      "100\n"
     ]
    }
   ],
   "source": [
    "fec3 = []\n",
    "for row in soup3.find_all(\"td\", {\"class\": \"Py(10px) Ta(start) Pend(10px)\"}):\n",
    "    fec3.append(row.getText())\n",
    "print(len(fec3))"
   ]
  },
  {
   "cell_type": "code",
   "execution_count": 106,
   "id": "f2b22cd0",
   "metadata": {},
   "outputs": [
    {
     "name": "stdout",
     "output_type": "stream",
     "text": [
      "100\n"
     ]
    }
   ],
   "source": [
    "fec4 = []\n",
    "for row in soup4.find_all(\"td\", {\"class\": \"Py(10px) Ta(start) Pend(10px)\"}):\n",
    "    fec4.append(row.getText())\n",
    "print(len(fec4))"
   ]
  },
  {
   "cell_type": "code",
   "execution_count": 107,
   "id": "3c2148e1",
   "metadata": {},
   "outputs": [
    {
     "name": "stdout",
     "output_type": "stream",
     "text": [
      "100\n"
     ]
    }
   ],
   "source": [
    "fec5 = []\n",
    "for row in soup5.find_all(\"td\", {\"class\": \"Py(10px) Ta(start) Pend(10px)\"}):\n",
    "    fec5.append(row.getText())\n",
    "print(len(fec5))"
   ]
  },
  {
   "cell_type": "code",
   "execution_count": 108,
   "id": "713dff83",
   "metadata": {},
   "outputs": [
    {
     "name": "stdout",
     "output_type": "stream",
     "text": [
      "100\n"
     ]
    }
   ],
   "source": [
    "fec6 = []\n",
    "for row in soup6.find_all(\"td\", {\"class\": \"Py(10px) Ta(start) Pend(10px)\"}):\n",
    "    fec6.append(row.getText())\n",
    "print(len(fec6))"
   ]
  },
  {
   "cell_type": "code",
   "execution_count": 109,
   "id": "fb847164",
   "metadata": {},
   "outputs": [
    {
     "name": "stdout",
     "output_type": "stream",
     "text": [
      "100\n"
     ]
    }
   ],
   "source": [
    "fec7 = []\n",
    "for row in soup7.find_all(\"td\", {\"class\": \"Py(10px) Ta(start) Pend(10px)\"}):\n",
    "    fec7.append(row.getText())\n",
    "print(len(fec7))"
   ]
  },
  {
   "cell_type": "code",
   "execution_count": 110,
   "id": "99221882",
   "metadata": {},
   "outputs": [
    {
     "name": "stdout",
     "output_type": "stream",
     "text": [
      "100\n"
     ]
    }
   ],
   "source": [
    "pentrada = []\n",
    "for i in datitos[::6]:\n",
    "    pentrada.append(i)  \n",
    "print(len(pentrada))"
   ]
  },
  {
   "cell_type": "code",
   "execution_count": 111,
   "id": "78d3ba93",
   "metadata": {},
   "outputs": [
    {
     "name": "stdout",
     "output_type": "stream",
     "text": [
      "100\n"
     ]
    }
   ],
   "source": [
    "#Precio entrada para mi segundo dataset de nasdaq\n",
    "pe2 = []\n",
    "for i in dat2[::6]:\n",
    "    pe2.append(i)  \n",
    "print(len(pe2))"
   ]
  },
  {
   "cell_type": "code",
   "execution_count": 112,
   "id": "818201ec",
   "metadata": {},
   "outputs": [
    {
     "name": "stdout",
     "output_type": "stream",
     "text": [
      "100\n"
     ]
    }
   ],
   "source": [
    "#Precio entrada para mi tercer dataset de nasdaq\n",
    "pe3 = []\n",
    "for i in dat3[::6]:\n",
    "    pe3.append(i)  \n",
    "print(len(pe3))"
   ]
  },
  {
   "cell_type": "code",
   "execution_count": 113,
   "id": "19003b59",
   "metadata": {},
   "outputs": [
    {
     "name": "stdout",
     "output_type": "stream",
     "text": [
      "100\n"
     ]
    }
   ],
   "source": [
    "#Precio entrada para mi cuarto dataset de nasdaq\n",
    "pe4 = []\n",
    "for i in dat4[::6]:\n",
    "    pe4.append(i)  \n",
    "print(len(pe4))"
   ]
  },
  {
   "cell_type": "code",
   "execution_count": 114,
   "id": "e0093309",
   "metadata": {},
   "outputs": [
    {
     "name": "stdout",
     "output_type": "stream",
     "text": [
      "100\n"
     ]
    }
   ],
   "source": [
    "#Precio entrada para mi quinto dataset de nasdaq\n",
    "pe5 = []\n",
    "for i in dat5[::6]:\n",
    "    pe5.append(i)  \n",
    "print(len(pe5))"
   ]
  },
  {
   "cell_type": "code",
   "execution_count": 115,
   "id": "43f03acb",
   "metadata": {},
   "outputs": [
    {
     "name": "stdout",
     "output_type": "stream",
     "text": [
      "100\n"
     ]
    }
   ],
   "source": [
    "#Precio entrada para mi sexto dataset de nasdaq\n",
    "pe6 = []\n",
    "for i in dat6[::6]:\n",
    "    pe6.append(i)  \n",
    "print(len(pe6))"
   ]
  },
  {
   "cell_type": "code",
   "execution_count": 116,
   "id": "81b115b3",
   "metadata": {},
   "outputs": [
    {
     "name": "stdout",
     "output_type": "stream",
     "text": [
      "100\n"
     ]
    }
   ],
   "source": [
    "#Precio entrada para mi septimo dataset de nasdaq\n",
    "pe7 = []\n",
    "for i in dat7[::6]:\n",
    "    pe7.append(i)  \n",
    "print(len(pe7))"
   ]
  },
  {
   "cell_type": "code",
   "execution_count": 117,
   "id": "03baeb1c",
   "metadata": {},
   "outputs": [
    {
     "name": "stdout",
     "output_type": "stream",
     "text": [
      "100\n"
     ]
    }
   ],
   "source": [
    "pcierre = []\n",
    "for i in datitos[3::6]:\n",
    "    pcierre.append(i)\n",
    "print(len(pcierre))"
   ]
  },
  {
   "cell_type": "code",
   "execution_count": 118,
   "id": "9e49aed6",
   "metadata": {},
   "outputs": [
    {
     "name": "stdout",
     "output_type": "stream",
     "text": [
      "100\n"
     ]
    }
   ],
   "source": [
    "#Precio de cierre para mi segundo dataset de nasdaq\n",
    "pc2 = []\n",
    "for i in dat2[3::6]:\n",
    "    pc2.append(i)\n",
    "print(len(pc2))"
   ]
  },
  {
   "cell_type": "code",
   "execution_count": 119,
   "id": "16096eba",
   "metadata": {},
   "outputs": [
    {
     "name": "stdout",
     "output_type": "stream",
     "text": [
      "100\n"
     ]
    }
   ],
   "source": [
    "#Precio de cierre para mi tercer dataset de nasdaq\n",
    "pc3 = []\n",
    "for i in dat3[3::6]:\n",
    "    pc3.append(i)\n",
    "print(len(pc3))"
   ]
  },
  {
   "cell_type": "code",
   "execution_count": 120,
   "id": "9d1e3fef",
   "metadata": {},
   "outputs": [
    {
     "name": "stdout",
     "output_type": "stream",
     "text": [
      "100\n"
     ]
    }
   ],
   "source": [
    "#Precio de cierre para mi cuarto dataset de nasdaq\n",
    "pc4 = []\n",
    "for i in dat4[3::6]:\n",
    "    pc4.append(i)\n",
    "print(len(pc4))"
   ]
  },
  {
   "cell_type": "code",
   "execution_count": 121,
   "id": "4ca42a53",
   "metadata": {},
   "outputs": [
    {
     "name": "stdout",
     "output_type": "stream",
     "text": [
      "100\n"
     ]
    }
   ],
   "source": [
    "#Precio de cierre para mi quinto dataset de nasdaq\n",
    "pc5 = []\n",
    "for i in dat5[3::6]:\n",
    "    pc5.append(i)\n",
    "print(len(pc5))"
   ]
  },
  {
   "cell_type": "code",
   "execution_count": 122,
   "id": "443659c2",
   "metadata": {},
   "outputs": [
    {
     "name": "stdout",
     "output_type": "stream",
     "text": [
      "100\n"
     ]
    }
   ],
   "source": [
    "#Precio de cierre para mi sexto dataset de nasdaq\n",
    "pc6 = []\n",
    "for i in dat6[3::6]:\n",
    "    pc6.append(i)\n",
    "print(len(pc6))"
   ]
  },
  {
   "cell_type": "code",
   "execution_count": 123,
   "id": "96e691e5",
   "metadata": {},
   "outputs": [
    {
     "name": "stdout",
     "output_type": "stream",
     "text": [
      "100\n"
     ]
    }
   ],
   "source": [
    "#Precio de cierre para mi septimo dataset de nasdaq\n",
    "pc7 = []\n",
    "for i in dat7[3::6]:\n",
    "    pc7.append(i)\n",
    "print(len(pc7))"
   ]
  },
  {
   "cell_type": "code",
   "execution_count": 124,
   "id": "32deddf2",
   "metadata": {},
   "outputs": [
    {
     "name": "stdout",
     "output_type": "stream",
     "text": [
      "100\n"
     ]
    }
   ],
   "source": [
    "pmax = []\n",
    "for i in datitos[1::6]:\n",
    "    pmax.append(i)\n",
    "print(len(pmax))"
   ]
  },
  {
   "cell_type": "code",
   "execution_count": 125,
   "id": "c58ae772",
   "metadata": {},
   "outputs": [
    {
     "name": "stdout",
     "output_type": "stream",
     "text": [
      "100\n"
     ]
    }
   ],
   "source": [
    "#Pmax para mi segundo dataset de nasdaq\n",
    "pmax2 = []\n",
    "for i in dat2[1::6]:\n",
    "    pmax2.append(i)\n",
    "print(len(pmax2))"
   ]
  },
  {
   "cell_type": "code",
   "execution_count": 126,
   "id": "07567ed7",
   "metadata": {},
   "outputs": [
    {
     "name": "stdout",
     "output_type": "stream",
     "text": [
      "100\n"
     ]
    }
   ],
   "source": [
    "#Pmax para mi tercer dataset de nasdaq\n",
    "pmax3 = []\n",
    "for i in dat3[1::6]:\n",
    "    pmax3.append(i)\n",
    "print(len(pmax3))"
   ]
  },
  {
   "cell_type": "code",
   "execution_count": 127,
   "id": "62b9ed22",
   "metadata": {},
   "outputs": [
    {
     "name": "stdout",
     "output_type": "stream",
     "text": [
      "100\n"
     ]
    }
   ],
   "source": [
    "#Pmax para mi cuarto dataset de nasdaq\n",
    "pmax4 = []\n",
    "for i in dat4[1::6]:\n",
    "    pmax4.append(i)\n",
    "print(len(pmax4))"
   ]
  },
  {
   "cell_type": "code",
   "execution_count": 128,
   "id": "c64d792e",
   "metadata": {},
   "outputs": [
    {
     "name": "stdout",
     "output_type": "stream",
     "text": [
      "100\n"
     ]
    }
   ],
   "source": [
    "#Pmax para mi quinto dataset de nasdaq\n",
    "pmax5 = []\n",
    "for i in dat5[1::6]:\n",
    "    pmax5.append(i)\n",
    "print(len(pmax5))"
   ]
  },
  {
   "cell_type": "code",
   "execution_count": 129,
   "id": "061520c2",
   "metadata": {},
   "outputs": [
    {
     "name": "stdout",
     "output_type": "stream",
     "text": [
      "100\n"
     ]
    }
   ],
   "source": [
    "#Pmax para mi sexto dataset de nasdaq\n",
    "pmax6 = []\n",
    "for i in dat6[1::6]:\n",
    "    pmax6.append(i)\n",
    "print(len(pmax6))"
   ]
  },
  {
   "cell_type": "code",
   "execution_count": 130,
   "id": "88348c44",
   "metadata": {},
   "outputs": [
    {
     "name": "stdout",
     "output_type": "stream",
     "text": [
      "100\n"
     ]
    }
   ],
   "source": [
    "#Pmax para mi septimo dataset de nasdaq\n",
    "pmax7 = []\n",
    "for i in dat7[1::6]:\n",
    "    pmax7.append(i)\n",
    "print(len(pmax7))"
   ]
  },
  {
   "cell_type": "code",
   "execution_count": 131,
   "id": "ce5c1744",
   "metadata": {},
   "outputs": [
    {
     "name": "stdout",
     "output_type": "stream",
     "text": [
      "100\n"
     ]
    }
   ],
   "source": [
    "volumen = []\n",
    "for i in datitos[5::6]:\n",
    "    volumen.append(i)\n",
    "print(len(volumen))"
   ]
  },
  {
   "cell_type": "code",
   "execution_count": 132,
   "id": "f9c37894",
   "metadata": {},
   "outputs": [
    {
     "name": "stdout",
     "output_type": "stream",
     "text": [
      "100\n"
     ]
    }
   ],
   "source": [
    "#Volumen para mi segundo dataset de nasdaq\n",
    "vol2 = []\n",
    "for i in dat2[5::6]:\n",
    "    vol2.append(i)\n",
    "print(len(vol2))"
   ]
  },
  {
   "cell_type": "code",
   "execution_count": 133,
   "id": "859f417f",
   "metadata": {},
   "outputs": [
    {
     "name": "stdout",
     "output_type": "stream",
     "text": [
      "100\n"
     ]
    }
   ],
   "source": [
    "#Volumen para mi tercer dataset de nasdaq\n",
    "vol3 = []\n",
    "for i in dat3[5::6]:\n",
    "    vol3.append(i)\n",
    "print(len(vol3))"
   ]
  },
  {
   "cell_type": "code",
   "execution_count": 134,
   "id": "4dedaa64",
   "metadata": {},
   "outputs": [
    {
     "name": "stdout",
     "output_type": "stream",
     "text": [
      "100\n"
     ]
    }
   ],
   "source": [
    "#Volumen para mi cuarto dataset de nasdaq\n",
    "vol4 = []\n",
    "for i in dat4[5::6]:\n",
    "    vol4.append(i)\n",
    "print(len(vol4))"
   ]
  },
  {
   "cell_type": "code",
   "execution_count": 135,
   "id": "b0618a51",
   "metadata": {},
   "outputs": [
    {
     "name": "stdout",
     "output_type": "stream",
     "text": [
      "100\n"
     ]
    }
   ],
   "source": [
    "#Volumen para mi quinto dataset de nasdaq\n",
    "vol5 = []\n",
    "for i in dat5[5::6]:\n",
    "    vol5.append(i)\n",
    "print(len(vol5))"
   ]
  },
  {
   "cell_type": "code",
   "execution_count": 136,
   "id": "758305f2",
   "metadata": {},
   "outputs": [
    {
     "name": "stdout",
     "output_type": "stream",
     "text": [
      "100\n"
     ]
    }
   ],
   "source": [
    "#Volumen para mi sexto dataset de nasdaq\n",
    "vol6 = []\n",
    "for i in dat6[5::6]:\n",
    "    vol6.append(i)\n",
    "print(len(vol6))"
   ]
  },
  {
   "cell_type": "code",
   "execution_count": 137,
   "id": "332e3684",
   "metadata": {},
   "outputs": [
    {
     "name": "stdout",
     "output_type": "stream",
     "text": [
      "100\n"
     ]
    }
   ],
   "source": [
    "#Volumen para mi septimo dataset de nasdaq\n",
    "vol7 = []\n",
    "for i in dat7[5::6]:\n",
    "    vol7.append(i)\n",
    "print(len(vol7))"
   ]
  },
  {
   "cell_type": "code",
   "execution_count": 138,
   "id": "73a07240",
   "metadata": {},
   "outputs": [],
   "source": [
    "datos = list(zip(fechas,pentrada,pcierre,pmax,volumen))\n",
    "dat = list(zip(fec2,pe2,pc2,pmax2,vol2))\n",
    "datin = list(zip(fec3,pe3,pc3,pmax3,vol3))\n",
    "dataton = list(zip(fec4,pe4,pc4,pmax4,vol4))\n",
    "dats = list(zip(fec5,pe5,pc5,pmax5,vol5))\n",
    "dato = list(zip(fec6,pe6,pc6,pmax6,vol6))\n",
    "dats = list(zip(fec7,pe7,pc7,pmax7,vol7))"
   ]
  },
  {
   "cell_type": "code",
   "execution_count": 139,
   "id": "9f447ceb",
   "metadata": {},
   "outputs": [],
   "source": [
    "nasdaq = pd.DataFrame(datos)\n",
    "nasdaq.columns = ['Fecha_NASDAQ','Aper_NASDAQ','Cier_NASDAQ','Max_NASDAQ','Vol_NASDAQ']\n",
    "nas = pd.DataFrame(dat)\n",
    "nas.columns = ['Fecha_NASDAQ','Aper_NASDAQ','Cier_NASDAQ','Max_NASDAQ','Vol_NASDAQ']\n",
    "nasin = pd.DataFrame(datin)\n",
    "nasin.columns = ['Fecha_NASDAQ','Aper_NASDAQ','Cier_NASDAQ','Max_NASDAQ','Vol_NASDAQ']\n",
    "nasdan = pd.DataFrame(dataton)\n",
    "nasdan.columns = ['Fecha_NASDAQ','Aper_NASDAQ','Cier_NASDAQ','Max_NASDAQ','Vol_NASDAQ']\n",
    "nasdatin = pd.DataFrame(dats)\n",
    "nasdatin.columns = ['Fecha_NASDAQ','Aper_NASDAQ','Cier_NASDAQ','Max_NASDAQ','Vol_NASDAQ']\n",
    "nasgul = pd.DataFrame(dato)\n",
    "nasgul.columns = ['Fecha_NASDAQ','Aper_NASDAQ','Cier_NASDAQ','Max_NASDAQ','Vol_NASDAQ']\n",
    "nasult = pd.DataFrame(dats)\n",
    "nasult.columns = ['Fecha_NASDAQ','Aper_NASDAQ','Cier_NASDAQ','Max_NASDAQ','Vol_NASDAQ']"
   ]
  },
  {
   "cell_type": "code",
   "execution_count": 140,
   "id": "aed3c77e",
   "metadata": {
    "scrolled": true
   },
   "outputs": [],
   "source": [
    "Nasdaq = pd.concat([nasdaq,nas,nasin,nasdan,nasdatin,nasgul,nasult], sort= False)\n"
   ]
  },
  {
   "cell_type": "code",
   "execution_count": 141,
   "id": "7d3208ac",
   "metadata": {},
   "outputs": [],
   "source": [
    "fecha = []\n",
    "for i in Nasdaq.Fecha_NASDAQ:\n",
    "    fecha.append(i.split(' '))\n",
    "año = []\n",
    "mes = []\n",
    "dia = []\n",
    "for i in fecha:\n",
    "    año.append(i[2])\n",
    "    mes.append(i[1])\n",
    "    dia.append(i[0])\n",
    "Nasdaq['Año_NASDAQ'] = año\n",
    "Nasdaq['Mes_NASDAQ1'] = mes\n",
    "Nasdaq['Dia_NASDAQ'] = dia"
   ]
  },
  {
   "cell_type": "code",
   "execution_count": 142,
   "id": "1fb36116",
   "metadata": {},
   "outputs": [],
   "source": [
    "def cambia(j):\n",
    "    '''\n",
    "    La funcion recibe una lista de string que dependiendo que string es lo tiene que cambiar por un numero.\n",
    "    param : columna de strings\n",
    "    return: devuelve una lista con los numeros correspondientes\n",
    "    return quiero que solo cambie dichos strings\n",
    "    '''\n",
    "\n",
    "    if j == 'nov':\n",
    "        return 11\n",
    "    elif j == 'oct':\n",
    "        return 10\n",
    "    elif j == 'sept':\n",
    "         return 9\n",
    "    elif j == 'ago':\n",
    "        return 8\n",
    "    elif j == 'jul':\n",
    "        return 7\n",
    "    elif j == 'jun':\n",
    "        return 6\n",
    "    elif j == 'may':\n",
    "        return 5\n",
    "    elif j == 'abr':\n",
    "        return 4\n",
    "    elif j == 'mar':\n",
    "        return 3\n",
    "    elif j == 'feb':\n",
    "        return 2\n",
    "    elif j == 'ene':\n",
    "        return 1\n",
    "    elif j == 'dic':\n",
    "        return 12\n",
    "    "
   ]
  },
  {
   "cell_type": "code",
   "execution_count": 143,
   "id": "3b854072",
   "metadata": {},
   "outputs": [],
   "source": [
    "Nasdaq['Mes_NASDAQ'] = Nasdaq.Mes_NASDAQ1.apply(cambia)"
   ]
  },
  {
   "cell_type": "code",
   "execution_count": 144,
   "id": "fd4b5fc4",
   "metadata": {},
   "outputs": [
    {
     "data": {
      "text/plain": [
       "array([11, 10,  9,  8,  7,  6,  5,  4,  3,  2,  1, 12])"
      ]
     },
     "execution_count": 144,
     "metadata": {},
     "output_type": "execute_result"
    }
   ],
   "source": [
    "Nasdaq.Mes_NASDAQ.unique()"
   ]
  },
  {
   "cell_type": "code",
   "execution_count": 145,
   "id": "8cf45154",
   "metadata": {},
   "outputs": [],
   "source": [
    "Nasdaq.reset_index(drop = True, inplace = True)"
   ]
  },
  {
   "cell_type": "code",
   "execution_count": 146,
   "id": "84045d53",
   "metadata": {},
   "outputs": [],
   "source": [
    "Nasdaq.drop(columns = 'Mes_NASDAQ1', inplace = True)"
   ]
  },
  {
   "cell_type": "code",
   "execution_count": 147,
   "id": "1eb787ef",
   "metadata": {},
   "outputs": [
    {
     "data": {
      "text/html": [
       "<div>\n",
       "<style scoped>\n",
       "    .dataframe tbody tr th:only-of-type {\n",
       "        vertical-align: middle;\n",
       "    }\n",
       "\n",
       "    .dataframe tbody tr th {\n",
       "        vertical-align: top;\n",
       "    }\n",
       "\n",
       "    .dataframe thead th {\n",
       "        text-align: right;\n",
       "    }\n",
       "</style>\n",
       "<table border=\"1\" class=\"dataframe\">\n",
       "  <thead>\n",
       "    <tr style=\"text-align: right;\">\n",
       "      <th></th>\n",
       "      <th>Fecha_NASDAQ</th>\n",
       "      <th>Aper_NASDAQ</th>\n",
       "      <th>Cier_NASDAQ</th>\n",
       "      <th>Max_NASDAQ</th>\n",
       "      <th>Vol_NASDAQ</th>\n",
       "      <th>Año_NASDAQ</th>\n",
       "      <th>Dia_NASDAQ</th>\n",
       "      <th>Mes_NASDAQ</th>\n",
       "    </tr>\n",
       "  </thead>\n",
       "  <tbody>\n",
       "    <tr>\n",
       "      <th>695</th>\n",
       "      <td>05 feb 2019</td>\n",
       "      <td>6969,37</td>\n",
       "      <td>7023,52</td>\n",
       "      <td>7029,77</td>\n",
       "      <td>2.265.520.000</td>\n",
       "      <td>2019</td>\n",
       "      <td>05</td>\n",
       "      <td>2</td>\n",
       "    </tr>\n",
       "    <tr>\n",
       "      <th>696</th>\n",
       "      <td>04 feb 2019</td>\n",
       "      <td>6876,56</td>\n",
       "      <td>6959,96</td>\n",
       "      <td>6960,97</td>\n",
       "      <td>2.099.470.000</td>\n",
       "      <td>2019</td>\n",
       "      <td>04</td>\n",
       "      <td>2</td>\n",
       "    </tr>\n",
       "    <tr>\n",
       "      <th>697</th>\n",
       "      <td>01 feb 2019</td>\n",
       "      <td>6872,73</td>\n",
       "      <td>6875,52</td>\n",
       "      <td>6921,95</td>\n",
       "      <td>2.383.430.000</td>\n",
       "      <td>2019</td>\n",
       "      <td>01</td>\n",
       "      <td>2</td>\n",
       "    </tr>\n",
       "    <tr>\n",
       "      <th>698</th>\n",
       "      <td>31 ene 2019</td>\n",
       "      <td>6840,93</td>\n",
       "      <td>6906,84</td>\n",
       "      <td>6936,34</td>\n",
       "      <td>2.918.710.000</td>\n",
       "      <td>2019</td>\n",
       "      <td>31</td>\n",
       "      <td>1</td>\n",
       "    </tr>\n",
       "    <tr>\n",
       "      <th>699</th>\n",
       "      <td>30 ene 2019</td>\n",
       "      <td>6708,56</td>\n",
       "      <td>6807,91</td>\n",
       "      <td>6826,92</td>\n",
       "      <td>2.544.050.000</td>\n",
       "      <td>2019</td>\n",
       "      <td>30</td>\n",
       "      <td>1</td>\n",
       "    </tr>\n",
       "  </tbody>\n",
       "</table>\n",
       "</div>"
      ],
      "text/plain": [
       "    Fecha_NASDAQ Aper_NASDAQ Cier_NASDAQ Max_NASDAQ     Vol_NASDAQ Año_NASDAQ  \\\n",
       "695  05 feb 2019     6969,37     7023,52    7029,77  2.265.520.000       2019   \n",
       "696  04 feb 2019     6876,56     6959,96    6960,97  2.099.470.000       2019   \n",
       "697  01 feb 2019     6872,73     6875,52    6921,95  2.383.430.000       2019   \n",
       "698  31 ene 2019     6840,93     6906,84    6936,34  2.918.710.000       2019   \n",
       "699  30 ene 2019     6708,56     6807,91    6826,92  2.544.050.000       2019   \n",
       "\n",
       "    Dia_NASDAQ  Mes_NASDAQ  \n",
       "695         05           2  \n",
       "696         04           2  \n",
       "697         01           2  \n",
       "698         31           1  \n",
       "699         30           1  "
      ]
     },
     "execution_count": 147,
     "metadata": {},
     "output_type": "execute_result"
    }
   ],
   "source": [
    "Nasdaq.tail()"
   ]
  },
  {
   "cell_type": "code",
   "execution_count": 152,
   "id": "01064fab",
   "metadata": {
    "scrolled": true
   },
   "outputs": [
    {
     "data": {
      "text/html": [
       "<div>\n",
       "<style scoped>\n",
       "    .dataframe tbody tr th:only-of-type {\n",
       "        vertical-align: middle;\n",
       "    }\n",
       "\n",
       "    .dataframe tbody tr th {\n",
       "        vertical-align: top;\n",
       "    }\n",
       "\n",
       "    .dataframe thead th {\n",
       "        text-align: right;\n",
       "    }\n",
       "</style>\n",
       "<table border=\"1\" class=\"dataframe\">\n",
       "  <thead>\n",
       "    <tr style=\"text-align: right;\">\n",
       "      <th></th>\n",
       "      <th>Symbol</th>\n",
       "      <th>High</th>\n",
       "      <th>Low</th>\n",
       "      <th>Open</th>\n",
       "      <th>Close</th>\n",
       "      <th>Volume</th>\n",
       "      <th>Marketcap</th>\n",
       "      <th>Año</th>\n",
       "      <th>Mes</th>\n",
       "      <th>Dia</th>\n",
       "    </tr>\n",
       "    <tr>\n",
       "      <th>SNo</th>\n",
       "      <th></th>\n",
       "      <th></th>\n",
       "      <th></th>\n",
       "      <th></th>\n",
       "      <th></th>\n",
       "      <th></th>\n",
       "      <th></th>\n",
       "      <th></th>\n",
       "      <th></th>\n",
       "      <th></th>\n",
       "    </tr>\n",
       "  </thead>\n",
       "  <tbody>\n",
       "    <tr>\n",
       "      <th>1</th>\n",
       "      <td>BTC</td>\n",
       "      <td>147.488007</td>\n",
       "      <td>134.000000</td>\n",
       "      <td>134.444000</td>\n",
       "      <td>144.539993</td>\n",
       "      <td>0.0</td>\n",
       "      <td>1.603769e+09</td>\n",
       "      <td>2013</td>\n",
       "      <td>04</td>\n",
       "      <td>29</td>\n",
       "    </tr>\n",
       "    <tr>\n",
       "      <th>2</th>\n",
       "      <td>BTC</td>\n",
       "      <td>146.929993</td>\n",
       "      <td>134.050003</td>\n",
       "      <td>144.000000</td>\n",
       "      <td>139.000000</td>\n",
       "      <td>0.0</td>\n",
       "      <td>1.542813e+09</td>\n",
       "      <td>2013</td>\n",
       "      <td>04</td>\n",
       "      <td>30</td>\n",
       "    </tr>\n",
       "    <tr>\n",
       "      <th>3</th>\n",
       "      <td>BTC</td>\n",
       "      <td>139.889999</td>\n",
       "      <td>107.720001</td>\n",
       "      <td>139.000000</td>\n",
       "      <td>116.989998</td>\n",
       "      <td>0.0</td>\n",
       "      <td>1.298955e+09</td>\n",
       "      <td>2013</td>\n",
       "      <td>05</td>\n",
       "      <td>01</td>\n",
       "    </tr>\n",
       "    <tr>\n",
       "      <th>4</th>\n",
       "      <td>BTC</td>\n",
       "      <td>125.599998</td>\n",
       "      <td>92.281898</td>\n",
       "      <td>116.379997</td>\n",
       "      <td>105.209999</td>\n",
       "      <td>0.0</td>\n",
       "      <td>1.168517e+09</td>\n",
       "      <td>2013</td>\n",
       "      <td>05</td>\n",
       "      <td>02</td>\n",
       "    </tr>\n",
       "    <tr>\n",
       "      <th>5</th>\n",
       "      <td>BTC</td>\n",
       "      <td>108.127998</td>\n",
       "      <td>79.099998</td>\n",
       "      <td>106.250000</td>\n",
       "      <td>97.750000</td>\n",
       "      <td>0.0</td>\n",
       "      <td>1.085995e+09</td>\n",
       "      <td>2013</td>\n",
       "      <td>05</td>\n",
       "      <td>03</td>\n",
       "    </tr>\n",
       "  </tbody>\n",
       "</table>\n",
       "</div>"
      ],
      "text/plain": [
       "    Symbol        High         Low        Open       Close  Volume  \\\n",
       "SNo                                                                  \n",
       "1      BTC  147.488007  134.000000  134.444000  144.539993     0.0   \n",
       "2      BTC  146.929993  134.050003  144.000000  139.000000     0.0   \n",
       "3      BTC  139.889999  107.720001  139.000000  116.989998     0.0   \n",
       "4      BTC  125.599998   92.281898  116.379997  105.209999     0.0   \n",
       "5      BTC  108.127998   79.099998  106.250000   97.750000     0.0   \n",
       "\n",
       "        Marketcap   Año Mes Dia  \n",
       "SNo                              \n",
       "1    1.603769e+09  2013  04  29  \n",
       "2    1.542813e+09  2013  04  30  \n",
       "3    1.298955e+09  2013  05  01  \n",
       "4    1.168517e+09  2013  05  02  \n",
       "5    1.085995e+09  2013  05  03  "
      ]
     },
     "execution_count": 152,
     "metadata": {},
     "output_type": "execute_result"
    }
   ],
   "source": [
    "btc.head()"
   ]
  },
  {
   "cell_type": "code",
   "execution_count": 171,
   "id": "346c914c",
   "metadata": {},
   "outputs": [
    {
     "name": "stdout",
     "output_type": "stream",
     "text": [
      "<class 'pandas.core.frame.DataFrame'>\n",
      "Int64Index: 918 entries, 2074 to 2991\n",
      "Data columns (total 10 columns):\n",
      " #   Column     Non-Null Count  Dtype  \n",
      "---  ------     --------------  -----  \n",
      " 0   Symbol     918 non-null    object \n",
      " 1   High       918 non-null    float64\n",
      " 2   Low        918 non-null    float64\n",
      " 3   Open       918 non-null    float64\n",
      " 4   Close      918 non-null    float64\n",
      " 5   Volume     918 non-null    float64\n",
      " 6   Marketcap  918 non-null    float64\n",
      " 7   Año        918 non-null    object \n",
      " 8   Mes        918 non-null    object \n",
      " 9   Dia        918 non-null    object \n",
      "dtypes: float64(6), object(4)\n",
      "memory usage: 111.2+ KB\n"
     ]
    }
   ],
   "source": [
    "btc.drop(btc[btc['Año']<'2019'].index, inplace = True)\n"
   ]
  },
  {
   "cell_type": "code",
   "execution_count": 172,
   "id": "4add3de2",
   "metadata": {},
   "outputs": [
    {
     "data": {
      "text/plain": [
       "array(['2019', '2020', '2021'], dtype=object)"
      ]
     },
     "execution_count": 172,
     "metadata": {},
     "output_type": "execute_result"
    }
   ],
   "source": [
    "btc.Año.unique()"
   ]
  },
  {
   "cell_type": "code",
   "execution_count": 151,
   "id": "631e0977",
   "metadata": {},
   "outputs": [
    {
     "data": {
      "text/html": [
       "<div>\n",
       "<style scoped>\n",
       "    .dataframe tbody tr th:only-of-type {\n",
       "        vertical-align: middle;\n",
       "    }\n",
       "\n",
       "    .dataframe tbody tr th {\n",
       "        vertical-align: top;\n",
       "    }\n",
       "\n",
       "    .dataframe thead th {\n",
       "        text-align: right;\n",
       "    }\n",
       "</style>\n",
       "<table border=\"1\" class=\"dataframe\">\n",
       "  <thead>\n",
       "    <tr style=\"text-align: right;\">\n",
       "      <th></th>\n",
       "      <th>Fecha_NASDAQ</th>\n",
       "      <th>Aper_NASDAQ</th>\n",
       "      <th>Cier_NASDAQ</th>\n",
       "      <th>Max_NASDAQ</th>\n",
       "      <th>Vol_NASDAQ</th>\n",
       "      <th>Año_NASDAQ</th>\n",
       "      <th>Dia_NASDAQ</th>\n",
       "      <th>Mes_NASDAQ</th>\n",
       "    </tr>\n",
       "  </thead>\n",
       "  <tbody>\n",
       "    <tr>\n",
       "      <th>499</th>\n",
       "      <td>30 ene 2019</td>\n",
       "      <td>6708,56</td>\n",
       "      <td>6807,91</td>\n",
       "      <td>6826,92</td>\n",
       "      <td>2.544.050.000</td>\n",
       "      <td>2019</td>\n",
       "      <td>30</td>\n",
       "      <td>1</td>\n",
       "    </tr>\n",
       "    <tr>\n",
       "      <th>699</th>\n",
       "      <td>30 ene 2019</td>\n",
       "      <td>6708,56</td>\n",
       "      <td>6807,91</td>\n",
       "      <td>6826,92</td>\n",
       "      <td>2.544.050.000</td>\n",
       "      <td>2019</td>\n",
       "      <td>30</td>\n",
       "      <td>1</td>\n",
       "    </tr>\n",
       "    <tr>\n",
       "      <th>498</th>\n",
       "      <td>31 ene 2019</td>\n",
       "      <td>6840,93</td>\n",
       "      <td>6906,84</td>\n",
       "      <td>6936,34</td>\n",
       "      <td>2.918.710.000</td>\n",
       "      <td>2019</td>\n",
       "      <td>31</td>\n",
       "      <td>1</td>\n",
       "    </tr>\n",
       "    <tr>\n",
       "      <th>698</th>\n",
       "      <td>31 ene 2019</td>\n",
       "      <td>6840,93</td>\n",
       "      <td>6906,84</td>\n",
       "      <td>6936,34</td>\n",
       "      <td>2.918.710.000</td>\n",
       "      <td>2019</td>\n",
       "      <td>31</td>\n",
       "      <td>1</td>\n",
       "    </tr>\n",
       "    <tr>\n",
       "      <th>497</th>\n",
       "      <td>01 feb 2019</td>\n",
       "      <td>6872,73</td>\n",
       "      <td>6875,52</td>\n",
       "      <td>6921,95</td>\n",
       "      <td>2.383.430.000</td>\n",
       "      <td>2019</td>\n",
       "      <td>01</td>\n",
       "      <td>2</td>\n",
       "    </tr>\n",
       "    <tr>\n",
       "      <th>...</th>\n",
       "      <td>...</td>\n",
       "      <td>...</td>\n",
       "      <td>...</td>\n",
       "      <td>...</td>\n",
       "      <td>...</td>\n",
       "      <td>...</td>\n",
       "      <td>...</td>\n",
       "      <td>...</td>\n",
       "    </tr>\n",
       "    <tr>\n",
       "      <th>4</th>\n",
       "      <td>01 nov 2021</td>\n",
       "      <td>15.879,61</td>\n",
       "      <td>15.905,28</td>\n",
       "      <td>15.910,35</td>\n",
       "      <td>5.239.250.000</td>\n",
       "      <td>2021</td>\n",
       "      <td>01</td>\n",
       "      <td>11</td>\n",
       "    </tr>\n",
       "    <tr>\n",
       "      <th>3</th>\n",
       "      <td>02 nov 2021</td>\n",
       "      <td>15.885,34</td>\n",
       "      <td>15.972,49</td>\n",
       "      <td>15.988,33</td>\n",
       "      <td>5.118.540.000</td>\n",
       "      <td>2021</td>\n",
       "      <td>02</td>\n",
       "      <td>11</td>\n",
       "    </tr>\n",
       "    <tr>\n",
       "      <th>2</th>\n",
       "      <td>03 nov 2021</td>\n",
       "      <td>16.000,60</td>\n",
       "      <td>16.144,50</td>\n",
       "      <td>16.157,60</td>\n",
       "      <td>5.274.520.000</td>\n",
       "      <td>2021</td>\n",
       "      <td>03</td>\n",
       "      <td>11</td>\n",
       "    </tr>\n",
       "    <tr>\n",
       "      <th>1</th>\n",
       "      <td>04 nov 2021</td>\n",
       "      <td>16.193,22</td>\n",
       "      <td>16.346,24</td>\n",
       "      <td>16.387,95</td>\n",
       "      <td>5.252.570.000</td>\n",
       "      <td>2021</td>\n",
       "      <td>04</td>\n",
       "      <td>11</td>\n",
       "    </tr>\n",
       "    <tr>\n",
       "      <th>0</th>\n",
       "      <td>05 nov 2021</td>\n",
       "      <td>16.397,59</td>\n",
       "      <td>16.359,38</td>\n",
       "      <td>16.454,48</td>\n",
       "      <td>5.534.130.000</td>\n",
       "      <td>2021</td>\n",
       "      <td>05</td>\n",
       "      <td>11</td>\n",
       "    </tr>\n",
       "  </tbody>\n",
       "</table>\n",
       "<p>700 rows × 8 columns</p>\n",
       "</div>"
      ],
      "text/plain": [
       "    Fecha_NASDAQ Aper_NASDAQ Cier_NASDAQ Max_NASDAQ     Vol_NASDAQ Año_NASDAQ  \\\n",
       "499  30 ene 2019     6708,56     6807,91    6826,92  2.544.050.000       2019   \n",
       "699  30 ene 2019     6708,56     6807,91    6826,92  2.544.050.000       2019   \n",
       "498  31 ene 2019     6840,93     6906,84    6936,34  2.918.710.000       2019   \n",
       "698  31 ene 2019     6840,93     6906,84    6936,34  2.918.710.000       2019   \n",
       "497  01 feb 2019     6872,73     6875,52    6921,95  2.383.430.000       2019   \n",
       "..           ...         ...         ...        ...            ...        ...   \n",
       "4    01 nov 2021   15.879,61   15.905,28  15.910,35  5.239.250.000       2021   \n",
       "3    02 nov 2021   15.885,34   15.972,49  15.988,33  5.118.540.000       2021   \n",
       "2    03 nov 2021   16.000,60   16.144,50  16.157,60  5.274.520.000       2021   \n",
       "1    04 nov 2021   16.193,22   16.346,24  16.387,95  5.252.570.000       2021   \n",
       "0    05 nov 2021   16.397,59   16.359,38  16.454,48  5.534.130.000       2021   \n",
       "\n",
       "    Dia_NASDAQ  Mes_NASDAQ  \n",
       "499         30           1  \n",
       "699         30           1  \n",
       "498         31           1  \n",
       "698         31           1  \n",
       "497         01           2  \n",
       "..         ...         ...  \n",
       "4           01          11  \n",
       "3           02          11  \n",
       "2           03          11  \n",
       "1           04          11  \n",
       "0           05          11  \n",
       "\n",
       "[700 rows x 8 columns]"
      ]
     },
     "execution_count": 151,
     "metadata": {},
     "output_type": "execute_result"
    }
   ],
   "source": [
    "Nasdaq.sort_values(['Año_NASDAQ','Mes_NASDAQ','Dia_NASDAQ'], ascending = True)"
   ]
  },
  {
   "cell_type": "code",
   "execution_count": 173,
   "id": "4529cca9",
   "metadata": {},
   "outputs": [],
   "source": [
    "df = pd.concat([btc,Nasdaq],sort = False)"
   ]
  },
  {
   "cell_type": "code",
   "execution_count": 176,
   "id": "fb09260c",
   "metadata": {},
   "outputs": [
    {
     "data": {
      "text/html": [
       "<div>\n",
       "<style scoped>\n",
       "    .dataframe tbody tr th:only-of-type {\n",
       "        vertical-align: middle;\n",
       "    }\n",
       "\n",
       "    .dataframe tbody tr th {\n",
       "        vertical-align: top;\n",
       "    }\n",
       "\n",
       "    .dataframe thead th {\n",
       "        text-align: right;\n",
       "    }\n",
       "</style>\n",
       "<table border=\"1\" class=\"dataframe\">\n",
       "  <thead>\n",
       "    <tr style=\"text-align: right;\">\n",
       "      <th></th>\n",
       "      <th>index</th>\n",
       "      <th>Symbol</th>\n",
       "      <th>High</th>\n",
       "      <th>Low</th>\n",
       "      <th>Open</th>\n",
       "      <th>Close</th>\n",
       "      <th>Volume</th>\n",
       "      <th>Marketcap</th>\n",
       "      <th>Año</th>\n",
       "      <th>Mes</th>\n",
       "      <th>Dia</th>\n",
       "      <th>Fecha_NASDAQ</th>\n",
       "      <th>Aper_NASDAQ</th>\n",
       "      <th>Cier_NASDAQ</th>\n",
       "      <th>Max_NASDAQ</th>\n",
       "      <th>Vol_NASDAQ</th>\n",
       "      <th>Año_NASDAQ</th>\n",
       "      <th>Dia_NASDAQ</th>\n",
       "      <th>Mes_NASDAQ</th>\n",
       "    </tr>\n",
       "  </thead>\n",
       "  <tbody>\n",
       "    <tr>\n",
       "      <th>0</th>\n",
       "      <td>2074</td>\n",
       "      <td>BTC</td>\n",
       "      <td>3850.913765</td>\n",
       "      <td>3707.231303</td>\n",
       "      <td>3746.713387</td>\n",
       "      <td>3843.519967</td>\n",
       "      <td>4.324201e+09</td>\n",
       "      <td>6.709863e+10</td>\n",
       "      <td>2019</td>\n",
       "      <td>01</td>\n",
       "      <td>01</td>\n",
       "      <td>NaN</td>\n",
       "      <td>NaN</td>\n",
       "      <td>NaN</td>\n",
       "      <td>NaN</td>\n",
       "      <td>NaN</td>\n",
       "      <td>NaN</td>\n",
       "      <td>NaN</td>\n",
       "      <td>NaN</td>\n",
       "    </tr>\n",
       "    <tr>\n",
       "      <th>1</th>\n",
       "      <td>2075</td>\n",
       "      <td>BTC</td>\n",
       "      <td>3947.981273</td>\n",
       "      <td>3817.409496</td>\n",
       "      <td>3849.216409</td>\n",
       "      <td>3943.409337</td>\n",
       "      <td>5.244857e+09</td>\n",
       "      <td>6.884986e+10</td>\n",
       "      <td>2019</td>\n",
       "      <td>01</td>\n",
       "      <td>02</td>\n",
       "      <td>NaN</td>\n",
       "      <td>NaN</td>\n",
       "      <td>NaN</td>\n",
       "      <td>NaN</td>\n",
       "      <td>NaN</td>\n",
       "      <td>NaN</td>\n",
       "      <td>NaN</td>\n",
       "      <td>NaN</td>\n",
       "    </tr>\n",
       "    <tr>\n",
       "      <th>2</th>\n",
       "      <td>2076</td>\n",
       "      <td>BTC</td>\n",
       "      <td>3935.685131</td>\n",
       "      <td>3826.222871</td>\n",
       "      <td>3931.048638</td>\n",
       "      <td>3836.741319</td>\n",
       "      <td>4.530215e+09</td>\n",
       "      <td>6.699492e+10</td>\n",
       "      <td>2019</td>\n",
       "      <td>01</td>\n",
       "      <td>03</td>\n",
       "      <td>NaN</td>\n",
       "      <td>NaN</td>\n",
       "      <td>NaN</td>\n",
       "      <td>NaN</td>\n",
       "      <td>NaN</td>\n",
       "      <td>NaN</td>\n",
       "      <td>NaN</td>\n",
       "      <td>NaN</td>\n",
       "    </tr>\n",
       "    <tr>\n",
       "      <th>3</th>\n",
       "      <td>2077</td>\n",
       "      <td>BTC</td>\n",
       "      <td>3865.934532</td>\n",
       "      <td>3783.853665</td>\n",
       "      <td>3832.039968</td>\n",
       "      <td>3857.717619</td>\n",
       "      <td>4.847965e+09</td>\n",
       "      <td>6.736833e+10</td>\n",
       "      <td>2019</td>\n",
       "      <td>01</td>\n",
       "      <td>04</td>\n",
       "      <td>NaN</td>\n",
       "      <td>NaN</td>\n",
       "      <td>NaN</td>\n",
       "      <td>NaN</td>\n",
       "      <td>NaN</td>\n",
       "      <td>NaN</td>\n",
       "      <td>NaN</td>\n",
       "      <td>NaN</td>\n",
       "    </tr>\n",
       "    <tr>\n",
       "      <th>4</th>\n",
       "      <td>2078</td>\n",
       "      <td>BTC</td>\n",
       "      <td>3904.903096</td>\n",
       "      <td>3836.900126</td>\n",
       "      <td>3851.973965</td>\n",
       "      <td>3845.194460</td>\n",
       "      <td>5.137610e+09</td>\n",
       "      <td>6.715757e+10</td>\n",
       "      <td>2019</td>\n",
       "      <td>01</td>\n",
       "      <td>05</td>\n",
       "      <td>NaN</td>\n",
       "      <td>NaN</td>\n",
       "      <td>NaN</td>\n",
       "      <td>NaN</td>\n",
       "      <td>NaN</td>\n",
       "      <td>NaN</td>\n",
       "      <td>NaN</td>\n",
       "      <td>NaN</td>\n",
       "    </tr>\n",
       "    <tr>\n",
       "      <th>...</th>\n",
       "      <td>...</td>\n",
       "      <td>...</td>\n",
       "      <td>...</td>\n",
       "      <td>...</td>\n",
       "      <td>...</td>\n",
       "      <td>...</td>\n",
       "      <td>...</td>\n",
       "      <td>...</td>\n",
       "      <td>...</td>\n",
       "      <td>...</td>\n",
       "      <td>...</td>\n",
       "      <td>...</td>\n",
       "      <td>...</td>\n",
       "      <td>...</td>\n",
       "      <td>...</td>\n",
       "      <td>...</td>\n",
       "      <td>...</td>\n",
       "      <td>...</td>\n",
       "      <td>...</td>\n",
       "    </tr>\n",
       "    <tr>\n",
       "      <th>1613</th>\n",
       "      <td>695</td>\n",
       "      <td>NaN</td>\n",
       "      <td>NaN</td>\n",
       "      <td>NaN</td>\n",
       "      <td>NaN</td>\n",
       "      <td>NaN</td>\n",
       "      <td>NaN</td>\n",
       "      <td>NaN</td>\n",
       "      <td>NaN</td>\n",
       "      <td>NaN</td>\n",
       "      <td>NaN</td>\n",
       "      <td>05 feb 2019</td>\n",
       "      <td>6969,37</td>\n",
       "      <td>7023,52</td>\n",
       "      <td>7029,77</td>\n",
       "      <td>2.265.520.000</td>\n",
       "      <td>2019</td>\n",
       "      <td>05</td>\n",
       "      <td>2.0</td>\n",
       "    </tr>\n",
       "    <tr>\n",
       "      <th>1614</th>\n",
       "      <td>696</td>\n",
       "      <td>NaN</td>\n",
       "      <td>NaN</td>\n",
       "      <td>NaN</td>\n",
       "      <td>NaN</td>\n",
       "      <td>NaN</td>\n",
       "      <td>NaN</td>\n",
       "      <td>NaN</td>\n",
       "      <td>NaN</td>\n",
       "      <td>NaN</td>\n",
       "      <td>NaN</td>\n",
       "      <td>04 feb 2019</td>\n",
       "      <td>6876,56</td>\n",
       "      <td>6959,96</td>\n",
       "      <td>6960,97</td>\n",
       "      <td>2.099.470.000</td>\n",
       "      <td>2019</td>\n",
       "      <td>04</td>\n",
       "      <td>2.0</td>\n",
       "    </tr>\n",
       "    <tr>\n",
       "      <th>1615</th>\n",
       "      <td>697</td>\n",
       "      <td>NaN</td>\n",
       "      <td>NaN</td>\n",
       "      <td>NaN</td>\n",
       "      <td>NaN</td>\n",
       "      <td>NaN</td>\n",
       "      <td>NaN</td>\n",
       "      <td>NaN</td>\n",
       "      <td>NaN</td>\n",
       "      <td>NaN</td>\n",
       "      <td>NaN</td>\n",
       "      <td>01 feb 2019</td>\n",
       "      <td>6872,73</td>\n",
       "      <td>6875,52</td>\n",
       "      <td>6921,95</td>\n",
       "      <td>2.383.430.000</td>\n",
       "      <td>2019</td>\n",
       "      <td>01</td>\n",
       "      <td>2.0</td>\n",
       "    </tr>\n",
       "    <tr>\n",
       "      <th>1616</th>\n",
       "      <td>698</td>\n",
       "      <td>NaN</td>\n",
       "      <td>NaN</td>\n",
       "      <td>NaN</td>\n",
       "      <td>NaN</td>\n",
       "      <td>NaN</td>\n",
       "      <td>NaN</td>\n",
       "      <td>NaN</td>\n",
       "      <td>NaN</td>\n",
       "      <td>NaN</td>\n",
       "      <td>NaN</td>\n",
       "      <td>31 ene 2019</td>\n",
       "      <td>6840,93</td>\n",
       "      <td>6906,84</td>\n",
       "      <td>6936,34</td>\n",
       "      <td>2.918.710.000</td>\n",
       "      <td>2019</td>\n",
       "      <td>31</td>\n",
       "      <td>1.0</td>\n",
       "    </tr>\n",
       "    <tr>\n",
       "      <th>1617</th>\n",
       "      <td>699</td>\n",
       "      <td>NaN</td>\n",
       "      <td>NaN</td>\n",
       "      <td>NaN</td>\n",
       "      <td>NaN</td>\n",
       "      <td>NaN</td>\n",
       "      <td>NaN</td>\n",
       "      <td>NaN</td>\n",
       "      <td>NaN</td>\n",
       "      <td>NaN</td>\n",
       "      <td>NaN</td>\n",
       "      <td>30 ene 2019</td>\n",
       "      <td>6708,56</td>\n",
       "      <td>6807,91</td>\n",
       "      <td>6826,92</td>\n",
       "      <td>2.544.050.000</td>\n",
       "      <td>2019</td>\n",
       "      <td>30</td>\n",
       "      <td>1.0</td>\n",
       "    </tr>\n",
       "  </tbody>\n",
       "</table>\n",
       "<p>1618 rows × 19 columns</p>\n",
       "</div>"
      ],
      "text/plain": [
       "      index Symbol         High          Low         Open        Close  \\\n",
       "0      2074    BTC  3850.913765  3707.231303  3746.713387  3843.519967   \n",
       "1      2075    BTC  3947.981273  3817.409496  3849.216409  3943.409337   \n",
       "2      2076    BTC  3935.685131  3826.222871  3931.048638  3836.741319   \n",
       "3      2077    BTC  3865.934532  3783.853665  3832.039968  3857.717619   \n",
       "4      2078    BTC  3904.903096  3836.900126  3851.973965  3845.194460   \n",
       "...     ...    ...          ...          ...          ...          ...   \n",
       "1613    695    NaN          NaN          NaN          NaN          NaN   \n",
       "1614    696    NaN          NaN          NaN          NaN          NaN   \n",
       "1615    697    NaN          NaN          NaN          NaN          NaN   \n",
       "1616    698    NaN          NaN          NaN          NaN          NaN   \n",
       "1617    699    NaN          NaN          NaN          NaN          NaN   \n",
       "\n",
       "            Volume     Marketcap   Año  Mes  Dia Fecha_NASDAQ Aper_NASDAQ  \\\n",
       "0     4.324201e+09  6.709863e+10  2019   01   01          NaN         NaN   \n",
       "1     5.244857e+09  6.884986e+10  2019   01   02          NaN         NaN   \n",
       "2     4.530215e+09  6.699492e+10  2019   01   03          NaN         NaN   \n",
       "3     4.847965e+09  6.736833e+10  2019   01   04          NaN         NaN   \n",
       "4     5.137610e+09  6.715757e+10  2019   01   05          NaN         NaN   \n",
       "...            ...           ...   ...  ...  ...          ...         ...   \n",
       "1613           NaN           NaN   NaN  NaN  NaN  05 feb 2019     6969,37   \n",
       "1614           NaN           NaN   NaN  NaN  NaN  04 feb 2019     6876,56   \n",
       "1615           NaN           NaN   NaN  NaN  NaN  01 feb 2019     6872,73   \n",
       "1616           NaN           NaN   NaN  NaN  NaN  31 ene 2019     6840,93   \n",
       "1617           NaN           NaN   NaN  NaN  NaN  30 ene 2019     6708,56   \n",
       "\n",
       "     Cier_NASDAQ Max_NASDAQ     Vol_NASDAQ Año_NASDAQ Dia_NASDAQ  Mes_NASDAQ  \n",
       "0            NaN        NaN            NaN        NaN        NaN         NaN  \n",
       "1            NaN        NaN            NaN        NaN        NaN         NaN  \n",
       "2            NaN        NaN            NaN        NaN        NaN         NaN  \n",
       "3            NaN        NaN            NaN        NaN        NaN         NaN  \n",
       "4            NaN        NaN            NaN        NaN        NaN         NaN  \n",
       "...          ...        ...            ...        ...        ...         ...  \n",
       "1613     7023,52    7029,77  2.265.520.000       2019         05         2.0  \n",
       "1614     6959,96    6960,97  2.099.470.000       2019         04         2.0  \n",
       "1615     6875,52    6921,95  2.383.430.000       2019         01         2.0  \n",
       "1616     6906,84    6936,34  2.918.710.000       2019         31         1.0  \n",
       "1617     6807,91    6826,92  2.544.050.000       2019         30         1.0  \n",
       "\n",
       "[1618 rows x 19 columns]"
      ]
     },
     "execution_count": 176,
     "metadata": {},
     "output_type": "execute_result"
    }
   ],
   "source": [
    "df.reset_index()"
   ]
  },
  {
   "cell_type": "code",
   "execution_count": null,
   "id": "03706c6c",
   "metadata": {},
   "outputs": [],
   "source": []
  }
 ],
 "metadata": {
  "kernelspec": {
   "display_name": "ironhack",
   "language": "python",
   "name": "ironhack"
  },
  "language_info": {
   "codemirror_mode": {
    "name": "ipython",
    "version": 3
   },
   "file_extension": ".py",
   "mimetype": "text/x-python",
   "name": "python",
   "nbconvert_exporter": "python",
   "pygments_lexer": "ipython3",
   "version": "3.8.5"
  }
 },
 "nbformat": 4,
 "nbformat_minor": 5
}
